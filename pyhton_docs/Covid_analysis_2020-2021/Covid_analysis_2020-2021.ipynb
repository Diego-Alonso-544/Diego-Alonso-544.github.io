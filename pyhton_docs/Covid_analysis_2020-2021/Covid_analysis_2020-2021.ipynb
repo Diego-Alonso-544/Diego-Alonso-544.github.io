{
 "cells": [
  {
   "cell_type": "markdown",
   "id": "imported-analysis",
   "metadata": {},
   "source": [
    "# Clase 04: Desarrollo"
   ]
  },
  {
   "cell_type": "markdown",
   "id": "threaded-article",
   "metadata": {},
   "source": [
    "### Analizando el Coronavirus"
   ]
  },
  {
   "cell_type": "markdown",
   "id": "devoted-chile",
   "metadata": {},
   "source": [
    "Al leer simplemente la base de datos \"data1_POSITIVOS=pd.read_csv(\"positivos_covid.csv)\" estabamos obviando momentaneamente un paso previo que se puede automotizar, tambien es posible hacerlo \"a mano\" pero podría ser muy tedioso debido a la limpieza de nombres por caracteres extraños.\n",
    "\n",
    "Tengamos en cuenta ademas que le hemos puesto codificación latin1 en lugar de utf-8 y que hemos puesto como delimitador \",\". El tipo delimitador, si es como o punto y coma, dependerá de como venga el archivo de origen y por tanto en que idioma estaba en Excel original o del idioma en el que esté su computadora.\n",
    "\n",
    "Hay dos fuentes de información importante, el MINSA y del Portal de Datos Abiertos del SINADEF. Para obtener los datos:\n",
    "\n",
    "\n",
    "La data siempre nos va a interesa de la forma mas granular posible, en este caso es a nivel de distrito.\n",
    "\n"
   ]
  },
  {
   "cell_type": "code",
   "execution_count": 1,
   "id": "violent-charlotte",
   "metadata": {},
   "outputs": [],
   "source": [
    "import pandas as pd\n",
    "import os \n",
    "os.chdir(r'C:\\Users\\Diego\\Desktop\\Topicos de Eco Mate\\Clases Parte 1°\\Clase 06')"
   ]
  },
  {
   "cell_type": "code",
   "execution_count": 2,
   "id": "intimate-tracy",
   "metadata": {},
   "outputs": [],
   "source": [
    "data_FALL=pd.read_csv('fallecidos_covid.csv', encoding= \"latin1\", delimiter=';')\n",
    "#ojo: Usualmente las bases de datos flucutan entre latin1 y UTF-8. Podemos ir probando para ver cual queda."
   ]
  },
  {
   "cell_type": "code",
   "execution_count": 3,
   "id": "extended-netherlands",
   "metadata": {},
   "outputs": [
    {
     "data": {
      "text/html": [
       "<div>\n",
       "<style scoped>\n",
       "    .dataframe tbody tr th:only-of-type {\n",
       "        vertical-align: middle;\n",
       "    }\n",
       "\n",
       "    .dataframe tbody tr th {\n",
       "        vertical-align: top;\n",
       "    }\n",
       "\n",
       "    .dataframe thead th {\n",
       "        text-align: right;\n",
       "    }\n",
       "</style>\n",
       "<table border=\"1\" class=\"dataframe\">\n",
       "  <thead>\n",
       "    <tr style=\"text-align: right;\">\n",
       "      <th></th>\n",
       "      <th>FECHA_CORTE</th>\n",
       "      <th>UUID</th>\n",
       "      <th>FECHA_FALLECIMIENTO</th>\n",
       "      <th>EDAD_DECLARADA</th>\n",
       "      <th>SEXO</th>\n",
       "      <th>FECHA_NAC</th>\n",
       "      <th>DEPARTAMENTO</th>\n",
       "      <th>PROVINCIA</th>\n",
       "      <th>DISTRITO</th>\n",
       "    </tr>\n",
       "  </thead>\n",
       "  <tbody>\n",
       "    <tr>\n",
       "      <th>0</th>\n",
       "      <td>20210501</td>\n",
       "      <td>7320cabdc1aaca6c59014cae76a134e6</td>\n",
       "      <td>20200413</td>\n",
       "      <td>65</td>\n",
       "      <td>FEMENINO</td>\n",
       "      <td>19540607.0</td>\n",
       "      <td>LIMA</td>\n",
       "      <td>LIMA</td>\n",
       "      <td>LIMA</td>\n",
       "    </tr>\n",
       "    <tr>\n",
       "      <th>1</th>\n",
       "      <td>20210501</td>\n",
       "      <td>e81602051997ace8340bb8c18fe24c65</td>\n",
       "      <td>20200506</td>\n",
       "      <td>52</td>\n",
       "      <td>MASCULINO</td>\n",
       "      <td>NaN</td>\n",
       "      <td>ANCASH</td>\n",
       "      <td>SANTA</td>\n",
       "      <td>CHIMBOTE</td>\n",
       "    </tr>\n",
       "  </tbody>\n",
       "</table>\n",
       "</div>"
      ],
      "text/plain": [
       "   FECHA_CORTE                              UUID  FECHA_FALLECIMIENTO  \\\n",
       "0     20210501  7320cabdc1aaca6c59014cae76a134e6             20200413   \n",
       "1     20210501  e81602051997ace8340bb8c18fe24c65             20200506   \n",
       "\n",
       "   EDAD_DECLARADA       SEXO   FECHA_NAC DEPARTAMENTO PROVINCIA  DISTRITO  \n",
       "0              65   FEMENINO  19540607.0         LIMA      LIMA      LIMA  \n",
       "1              52  MASCULINO         NaN       ANCASH     SANTA  CHIMBOTE  "
      ]
     },
     "execution_count": 3,
     "metadata": {},
     "output_type": "execute_result"
    }
   ],
   "source": [
    "data_FALL.head(2)"
   ]
  },
  {
   "cell_type": "code",
   "execution_count": 4,
   "id": "becoming-frederick",
   "metadata": {},
   "outputs": [],
   "source": [
    "data_POS=pd.read_csv('positivos_covid.csv', encoding='latin1', delimiter=';')"
   ]
  },
  {
   "cell_type": "code",
   "execution_count": 5,
   "id": "removable-google",
   "metadata": {},
   "outputs": [],
   "source": [
    "data_POS=pd.read_csv('positivos_covid.csv', encoding='UTF-8', delimiter=';')"
   ]
  },
  {
   "cell_type": "code",
   "execution_count": 6,
   "id": "noble-restaurant",
   "metadata": {},
   "outputs": [
    {
     "data": {
      "text/html": [
       "<div>\n",
       "<style scoped>\n",
       "    .dataframe tbody tr th:only-of-type {\n",
       "        vertical-align: middle;\n",
       "    }\n",
       "\n",
       "    .dataframe tbody tr th {\n",
       "        vertical-align: top;\n",
       "    }\n",
       "\n",
       "    .dataframe thead th {\n",
       "        text-align: right;\n",
       "    }\n",
       "</style>\n",
       "<table border=\"1\" class=\"dataframe\">\n",
       "  <thead>\n",
       "    <tr style=\"text-align: right;\">\n",
       "      <th></th>\n",
       "      <th>FECHA_CORTE</th>\n",
       "      <th>UUID</th>\n",
       "      <th>DEPARTAMENTO</th>\n",
       "      <th>PROVINCIA</th>\n",
       "      <th>DISTRITO</th>\n",
       "      <th>METODODX</th>\n",
       "      <th>EDAD</th>\n",
       "      <th>SEXO</th>\n",
       "      <th>FECHA_RESULTADO</th>\n",
       "    </tr>\n",
       "  </thead>\n",
       "  <tbody>\n",
       "    <tr>\n",
       "      <th>0</th>\n",
       "      <td>20210501</td>\n",
       "      <td>7320cabdc1aaca6c59014cae76a134e6</td>\n",
       "      <td>ICA</td>\n",
       "      <td>ICA</td>\n",
       "      <td>LA TINGUIÑA</td>\n",
       "      <td>PR</td>\n",
       "      <td>37.0</td>\n",
       "      <td>FEMENINO</td>\n",
       "      <td>20200923.0</td>\n",
       "    </tr>\n",
       "    <tr>\n",
       "      <th>1</th>\n",
       "      <td>20210501</td>\n",
       "      <td>cecdbf10074dbc011ae05b3cbd320a6f</td>\n",
       "      <td>ICA</td>\n",
       "      <td>ICA</td>\n",
       "      <td>LA TINGUIÑA</td>\n",
       "      <td>PR</td>\n",
       "      <td>49.0</td>\n",
       "      <td>FEMENINO</td>\n",
       "      <td>20200923.0</td>\n",
       "    </tr>\n",
       "  </tbody>\n",
       "</table>\n",
       "</div>"
      ],
      "text/plain": [
       "   FECHA_CORTE                              UUID DEPARTAMENTO PROVINCIA  \\\n",
       "0     20210501  7320cabdc1aaca6c59014cae76a134e6          ICA       ICA   \n",
       "1     20210501  cecdbf10074dbc011ae05b3cbd320a6f          ICA       ICA   \n",
       "\n",
       "      DISTRITO METODODX  EDAD      SEXO  FECHA_RESULTADO  \n",
       "0  LA TINGUIÑA       PR  37.0  FEMENINO       20200923.0  \n",
       "1  LA TINGUIÑA       PR  49.0  FEMENINO       20200923.0  "
      ]
     },
     "execution_count": 6,
     "metadata": {},
     "output_type": "execute_result"
    }
   ],
   "source": [
    "data_POS.head(2)"
   ]
  },
  {
   "cell_type": "code",
   "execution_count": 7,
   "id": "affecting-passenger",
   "metadata": {},
   "outputs": [
    {
     "name": "stderr",
     "output_type": "stream",
     "text": [
      "c:\\users\\diego\\appdata\\local\\programs\\python\\python37\\lib\\site-packages\\IPython\\core\\interactiveshell.py:3166: DtypeWarning: Columns (0,3,13,14) have mixed types.Specify dtype option on import or set low_memory=False.\n",
      "  interactivity=interactivity, compiler=compiler, result=result)\n"
     ]
    }
   ],
   "source": [
    "data_FALL_SINA=pd.read_csv('fallecidos_sinadef.csv',encoding='latin1',delimiter=\";\")"
   ]
  },
  {
   "cell_type": "code",
   "execution_count": 9,
   "id": "conventional-snapshot",
   "metadata": {},
   "outputs": [
    {
     "data": {
      "text/html": [
       "<div>\n",
       "<style scoped>\n",
       "    .dataframe tbody tr th:only-of-type {\n",
       "        vertical-align: middle;\n",
       "    }\n",
       "\n",
       "    .dataframe tbody tr th {\n",
       "        vertical-align: top;\n",
       "    }\n",
       "\n",
       "    .dataframe thead th {\n",
       "        text-align: right;\n",
       "    }\n",
       "</style>\n",
       "<table border=\"1\" class=\"dataframe\">\n",
       "  <thead>\n",
       "    <tr style=\"text-align: right;\">\n",
       "      <th></th>\n",
       "      <th>Reporte del Sistema de Defunciones registrados al 03.05.2021 a las 00:00 horas</th>\n",
       "      <th>Unnamed: 1</th>\n",
       "      <th>Unnamed: 2</th>\n",
       "      <th>Unnamed: 3</th>\n",
       "      <th>Unnamed: 4</th>\n",
       "      <th>Unnamed: 5</th>\n",
       "      <th>Unnamed: 6</th>\n",
       "      <th>Unnamed: 7</th>\n",
       "      <th>Unnamed: 8</th>\n",
       "      <th>Unnamed: 9</th>\n",
       "      <th>...</th>\n",
       "      <th>Unnamed: 25</th>\n",
       "      <th>Unnamed: 26</th>\n",
       "      <th>Unnamed: 27</th>\n",
       "      <th>Unnamed: 28</th>\n",
       "      <th>Unnamed: 29</th>\n",
       "      <th>Unnamed: 30</th>\n",
       "      <th>Unnamed: 31</th>\n",
       "      <th>Unnamed: 32</th>\n",
       "      <th>Unnamed: 33</th>\n",
       "      <th>Unnamed: 34</th>\n",
       "    </tr>\n",
       "  </thead>\n",
       "  <tbody>\n",
       "    <tr>\n",
       "      <th>0</th>\n",
       "      <td>NaN</td>\n",
       "      <td>NaN</td>\n",
       "      <td>NaN</td>\n",
       "      <td>NaN</td>\n",
       "      <td>NaN</td>\n",
       "      <td>NaN</td>\n",
       "      <td>NaN</td>\n",
       "      <td>NaN</td>\n",
       "      <td>NaN</td>\n",
       "      <td>NaN</td>\n",
       "      <td>...</td>\n",
       "      <td>NaN</td>\n",
       "      <td>NaN</td>\n",
       "      <td>NaN</td>\n",
       "      <td>NaN</td>\n",
       "      <td>NaN</td>\n",
       "      <td>NaN</td>\n",
       "      <td>NaN</td>\n",
       "      <td>NaN</td>\n",
       "      <td>NaN</td>\n",
       "      <td>NaN</td>\n",
       "    </tr>\n",
       "    <tr>\n",
       "      <th>1</th>\n",
       "      <td>Nº</td>\n",
       "      <td>TIPO SEGURO</td>\n",
       "      <td>SEXO</td>\n",
       "      <td>EDAD</td>\n",
       "      <td>TIEMPO EDAD</td>\n",
       "      <td>ESTADO CIVIL</td>\n",
       "      <td>NIVEL DE INSTRUCCIÓN</td>\n",
       "      <td>COD# UBIGEO DOMICILIO</td>\n",
       "      <td>PAIS DOMICILIO</td>\n",
       "      <td>DEPARTAMENTO DOMICILIO</td>\n",
       "      <td>...</td>\n",
       "      <td>DEBIDO A (CAUSA D)</td>\n",
       "      <td>CAUSA D (CIE-X)</td>\n",
       "      <td>DEBIDO A (CAUSA E)</td>\n",
       "      <td>CAUSA E (CIE-X)</td>\n",
       "      <td>DEBIDO A (CAUSA F)</td>\n",
       "      <td>CAUSA F (CIE-X)</td>\n",
       "      <td>NaN</td>\n",
       "      <td>NaN</td>\n",
       "      <td>NaN</td>\n",
       "      <td>NaN</td>\n",
       "    </tr>\n",
       "  </tbody>\n",
       "</table>\n",
       "<p>2 rows × 35 columns</p>\n",
       "</div>"
      ],
      "text/plain": [
       "  Reporte del Sistema de Defunciones registrados al 03.05.2021 a las 00:00 horas  \\\n",
       "0                                                NaN                               \n",
       "1                                                 Nº                               \n",
       "\n",
       "    Unnamed: 1 Unnamed: 2 Unnamed: 3   Unnamed: 4    Unnamed: 5  \\\n",
       "0          NaN        NaN        NaN          NaN           NaN   \n",
       "1  TIPO SEGURO       SEXO       EDAD  TIEMPO EDAD  ESTADO CIVIL   \n",
       "\n",
       "             Unnamed: 6             Unnamed: 7      Unnamed: 8  \\\n",
       "0                   NaN                    NaN             NaN   \n",
       "1  NIVEL DE INSTRUCCIÓN  COD# UBIGEO DOMICILIO  PAIS DOMICILIO   \n",
       "\n",
       "               Unnamed: 9  ...         Unnamed: 25      Unnamed: 26  \\\n",
       "0                     NaN  ...                 NaN              NaN   \n",
       "1  DEPARTAMENTO DOMICILIO  ...  DEBIDO A (CAUSA D)  CAUSA D (CIE-X)   \n",
       "\n",
       "          Unnamed: 27      Unnamed: 28         Unnamed: 29      Unnamed: 30  \\\n",
       "0                 NaN              NaN                 NaN              NaN   \n",
       "1  DEBIDO A (CAUSA E)  CAUSA E (CIE-X)  DEBIDO A (CAUSA F)  CAUSA F (CIE-X)   \n",
       "\n",
       "  Unnamed: 31 Unnamed: 32 Unnamed: 33 Unnamed: 34  \n",
       "0         NaN         NaN         NaN         NaN  \n",
       "1         NaN         NaN         NaN         NaN  \n",
       "\n",
       "[2 rows x 35 columns]"
      ]
     },
     "execution_count": 9,
     "metadata": {},
     "output_type": "execute_result"
    }
   ],
   "source": [
    "data_FALL_SINA.head(2)"
   ]
  },
  {
   "cell_type": "code",
   "execution_count": 10,
   "id": "split-hammer",
   "metadata": {},
   "outputs": [
    {
     "name": "stderr",
     "output_type": "stream",
     "text": [
      "c:\\users\\diego\\appdata\\local\\programs\\python\\python37\\lib\\site-packages\\IPython\\core\\interactiveshell.py:3166: DtypeWarning: Columns (3) have mixed types.Specify dtype option on import or set low_memory=False.\n",
      "  interactivity=interactivity, compiler=compiler, result=result)\n"
     ]
    },
    {
     "data": {
      "text/html": [
       "<div>\n",
       "<style scoped>\n",
       "    .dataframe tbody tr th:only-of-type {\n",
       "        vertical-align: middle;\n",
       "    }\n",
       "\n",
       "    .dataframe tbody tr th {\n",
       "        vertical-align: top;\n",
       "    }\n",
       "\n",
       "    .dataframe thead th {\n",
       "        text-align: right;\n",
       "    }\n",
       "</style>\n",
       "<table border=\"1\" class=\"dataframe\">\n",
       "  <thead>\n",
       "    <tr style=\"text-align: right;\">\n",
       "      <th></th>\n",
       "      <th>Nº</th>\n",
       "      <th>TIPO SEGURO</th>\n",
       "      <th>SEXO</th>\n",
       "      <th>EDAD</th>\n",
       "      <th>TIEMPO EDAD</th>\n",
       "      <th>ESTADO CIVIL</th>\n",
       "      <th>NIVEL DE INSTRUCCIÓN</th>\n",
       "      <th>COD# UBIGEO DOMICILIO</th>\n",
       "      <th>PAIS DOMICILIO</th>\n",
       "      <th>DEPARTAMENTO DOMICILIO</th>\n",
       "      <th>...</th>\n",
       "      <th>DEBIDO A (CAUSA D)</th>\n",
       "      <th>CAUSA D (CIE-X)</th>\n",
       "      <th>DEBIDO A (CAUSA E)</th>\n",
       "      <th>CAUSA E (CIE-X)</th>\n",
       "      <th>DEBIDO A (CAUSA F)</th>\n",
       "      <th>CAUSA F (CIE-X)</th>\n",
       "      <th>Unnamed: 31</th>\n",
       "      <th>Unnamed: 32</th>\n",
       "      <th>Unnamed: 33</th>\n",
       "      <th>Unnamed: 34</th>\n",
       "    </tr>\n",
       "  </thead>\n",
       "  <tbody>\n",
       "    <tr>\n",
       "      <th>0</th>\n",
       "      <td>1</td>\n",
       "      <td>SIS</td>\n",
       "      <td>SIN REGISTRO</td>\n",
       "      <td>SIN REGISTRO</td>\n",
       "      <td>SIN REGISTRO</td>\n",
       "      <td>SIN REGISTRO</td>\n",
       "      <td>SUPERIOR NO UNIV. COMP.</td>\n",
       "      <td>SIN REGISTRO</td>\n",
       "      <td>PERU</td>\n",
       "      <td>LA LIBERTAD</td>\n",
       "      <td>...</td>\n",
       "      <td>SIN REGISTRO</td>\n",
       "      <td>SIN REGISTRO</td>\n",
       "      <td>SIN REGISTRO</td>\n",
       "      <td>SIN REGISTRO</td>\n",
       "      <td>SIN REGISTRO</td>\n",
       "      <td>SIN REGISTRO</td>\n",
       "      <td>NaN</td>\n",
       "      <td>NaN</td>\n",
       "      <td>NaN</td>\n",
       "      <td>NaN</td>\n",
       "    </tr>\n",
       "    <tr>\n",
       "      <th>1</th>\n",
       "      <td>2</td>\n",
       "      <td>SIS</td>\n",
       "      <td>MASCULINO</td>\n",
       "      <td>4</td>\n",
       "      <td>AÑOS</td>\n",
       "      <td>SOLTERO</td>\n",
       "      <td>IGNORADO</td>\n",
       "      <td>92-33-21-04-01-000</td>\n",
       "      <td>PERU</td>\n",
       "      <td>SAN MARTIN</td>\n",
       "      <td>...</td>\n",
       "      <td>SIN REGISTRO</td>\n",
       "      <td>SIN REGISTRO</td>\n",
       "      <td>PARALISIS CEREBRAL INFANTIL</td>\n",
       "      <td>G809</td>\n",
       "      <td>SIN REGISTRO</td>\n",
       "      <td>SIN REGISTRO</td>\n",
       "      <td>NaN</td>\n",
       "      <td>NaN</td>\n",
       "      <td>NaN</td>\n",
       "      <td>NaN</td>\n",
       "    </tr>\n",
       "  </tbody>\n",
       "</table>\n",
       "<p>2 rows × 35 columns</p>\n",
       "</div>"
      ],
      "text/plain": [
       "   Nº TIPO SEGURO          SEXO          EDAD   TIEMPO EDAD  ESTADO CIVIL  \\\n",
       "0   1         SIS  SIN REGISTRO  SIN REGISTRO  SIN REGISTRO  SIN REGISTRO   \n",
       "1   2         SIS     MASCULINO             4          AÑOS       SOLTERO   \n",
       "\n",
       "      NIVEL DE INSTRUCCIÓN COD# UBIGEO DOMICILIO PAIS DOMICILIO  \\\n",
       "0  SUPERIOR NO UNIV. COMP.          SIN REGISTRO           PERU   \n",
       "1                 IGNORADO    92-33-21-04-01-000           PERU   \n",
       "\n",
       "  DEPARTAMENTO DOMICILIO  ... DEBIDO A (CAUSA D) CAUSA D (CIE-X)  \\\n",
       "0            LA LIBERTAD  ...       SIN REGISTRO    SIN REGISTRO   \n",
       "1             SAN MARTIN  ...       SIN REGISTRO    SIN REGISTRO   \n",
       "\n",
       "            DEBIDO A (CAUSA E)  CAUSA E (CIE-X)  DEBIDO A (CAUSA F)  \\\n",
       "0                 SIN REGISTRO     SIN REGISTRO        SIN REGISTRO   \n",
       "1  PARALISIS CEREBRAL INFANTIL             G809        SIN REGISTRO   \n",
       "\n",
       "  CAUSA F (CIE-X) Unnamed: 31 Unnamed: 32 Unnamed: 33 Unnamed: 34  \n",
       "0    SIN REGISTRO         NaN         NaN         NaN         NaN  \n",
       "1    SIN REGISTRO         NaN         NaN         NaN         NaN  \n",
       "\n",
       "[2 rows x 35 columns]"
      ]
     },
     "execution_count": 10,
     "metadata": {},
     "output_type": "execute_result"
    }
   ],
   "source": [
    "data_FALL_SINA=pd.read_csv('fallecidos_sinadef.csv',encoding='latin1',delimiter=\";\", skiprows=2)\n",
    "data_FALL_SINA.head(2)"
   ]
  },
  {
   "cell_type": "code",
   "execution_count": 11,
   "id": "modified-transmission",
   "metadata": {},
   "outputs": [
    {
     "name": "stderr",
     "output_type": "stream",
     "text": [
      "c:\\users\\diego\\appdata\\local\\programs\\python\\python37\\lib\\site-packages\\IPython\\core\\interactiveshell.py:3166: DtypeWarning: Columns (3) have mixed types.Specify dtype option on import or set low_memory=False.\n",
      "  interactivity=interactivity, compiler=compiler, result=result)\n"
     ]
    },
    {
     "data": {
      "text/html": [
       "<div>\n",
       "<style scoped>\n",
       "    .dataframe tbody tr th:only-of-type {\n",
       "        vertical-align: middle;\n",
       "    }\n",
       "\n",
       "    .dataframe tbody tr th {\n",
       "        vertical-align: top;\n",
       "    }\n",
       "\n",
       "    .dataframe thead th {\n",
       "        text-align: right;\n",
       "    }\n",
       "</style>\n",
       "<table border=\"1\" class=\"dataframe\">\n",
       "  <thead>\n",
       "    <tr style=\"text-align: right;\">\n",
       "      <th></th>\n",
       "      <th>Nº</th>\n",
       "      <th>TIPO SEGURO</th>\n",
       "      <th>SEXO</th>\n",
       "      <th>EDAD</th>\n",
       "      <th>TIEMPO EDAD</th>\n",
       "      <th>ESTADO CIVIL</th>\n",
       "      <th>NIVEL DE INSTRUCCIÓN</th>\n",
       "      <th>COD# UBIGEO DOMICILIO</th>\n",
       "      <th>PAIS DOMICILIO</th>\n",
       "      <th>DEPARTAMENTO DOMICILIO</th>\n",
       "      <th>...</th>\n",
       "      <th>DEBIDO A (CAUSA B)</th>\n",
       "      <th>CAUSA B (CIE-X)</th>\n",
       "      <th>DEBIDO A (CAUSA C)</th>\n",
       "      <th>CAUSA C (CIE-X)</th>\n",
       "      <th>DEBIDO A (CAUSA D)</th>\n",
       "      <th>CAUSA D (CIE-X)</th>\n",
       "      <th>DEBIDO A (CAUSA E)</th>\n",
       "      <th>CAUSA E (CIE-X)</th>\n",
       "      <th>DEBIDO A (CAUSA F)</th>\n",
       "      <th>CAUSA F (CIE-X)</th>\n",
       "    </tr>\n",
       "  </thead>\n",
       "  <tbody>\n",
       "    <tr>\n",
       "      <th>0</th>\n",
       "      <td>1</td>\n",
       "      <td>SIS</td>\n",
       "      <td>SIN REGISTRO</td>\n",
       "      <td>SIN REGISTRO</td>\n",
       "      <td>SIN REGISTRO</td>\n",
       "      <td>SIN REGISTRO</td>\n",
       "      <td>SUPERIOR NO UNIV. COMP.</td>\n",
       "      <td>SIN REGISTRO</td>\n",
       "      <td>PERU</td>\n",
       "      <td>LA LIBERTAD</td>\n",
       "      <td>...</td>\n",
       "      <td>DIFICULTAD RESPIRATORIA DEL RECIEN NACIDO</td>\n",
       "      <td>P229</td>\n",
       "      <td>INMATURIDAD EXTREMA</td>\n",
       "      <td>P072</td>\n",
       "      <td>SIN REGISTRO</td>\n",
       "      <td>SIN REGISTRO</td>\n",
       "      <td>SIN REGISTRO</td>\n",
       "      <td>SIN REGISTRO</td>\n",
       "      <td>SIN REGISTRO</td>\n",
       "      <td>SIN REGISTRO</td>\n",
       "    </tr>\n",
       "    <tr>\n",
       "      <th>1</th>\n",
       "      <td>2</td>\n",
       "      <td>SIS</td>\n",
       "      <td>MASCULINO</td>\n",
       "      <td>4</td>\n",
       "      <td>AÑOS</td>\n",
       "      <td>SOLTERO</td>\n",
       "      <td>IGNORADO</td>\n",
       "      <td>92-33-21-04-01-000</td>\n",
       "      <td>PERU</td>\n",
       "      <td>SAN MARTIN</td>\n",
       "      <td>...</td>\n",
       "      <td>NEUMONIA SEVERA</td>\n",
       "      <td>J159</td>\n",
       "      <td>SIN REGISTRO</td>\n",
       "      <td>SIN REGISTRO</td>\n",
       "      <td>SIN REGISTRO</td>\n",
       "      <td>SIN REGISTRO</td>\n",
       "      <td>PARALISIS CEREBRAL INFANTIL</td>\n",
       "      <td>G809</td>\n",
       "      <td>SIN REGISTRO</td>\n",
       "      <td>SIN REGISTRO</td>\n",
       "    </tr>\n",
       "  </tbody>\n",
       "</table>\n",
       "<p>2 rows × 31 columns</p>\n",
       "</div>"
      ],
      "text/plain": [
       "   Nº TIPO SEGURO          SEXO          EDAD   TIEMPO EDAD  ESTADO CIVIL  \\\n",
       "0   1         SIS  SIN REGISTRO  SIN REGISTRO  SIN REGISTRO  SIN REGISTRO   \n",
       "1   2         SIS     MASCULINO             4          AÑOS       SOLTERO   \n",
       "\n",
       "      NIVEL DE INSTRUCCIÓN COD# UBIGEO DOMICILIO PAIS DOMICILIO  \\\n",
       "0  SUPERIOR NO UNIV. COMP.          SIN REGISTRO           PERU   \n",
       "1                 IGNORADO    92-33-21-04-01-000           PERU   \n",
       "\n",
       "  DEPARTAMENTO DOMICILIO  ...                         DEBIDO A (CAUSA B)  \\\n",
       "0            LA LIBERTAD  ...  DIFICULTAD RESPIRATORIA DEL RECIEN NACIDO   \n",
       "1             SAN MARTIN  ...                            NEUMONIA SEVERA   \n",
       "\n",
       "  CAUSA B (CIE-X)   DEBIDO A (CAUSA C)  CAUSA C (CIE-X)  DEBIDO A (CAUSA D)  \\\n",
       "0            P229  INMATURIDAD EXTREMA             P072        SIN REGISTRO   \n",
       "1            J159         SIN REGISTRO     SIN REGISTRO        SIN REGISTRO   \n",
       "\n",
       "  CAUSA D (CIE-X)           DEBIDO A (CAUSA E) CAUSA E (CIE-X)  \\\n",
       "0    SIN REGISTRO                 SIN REGISTRO    SIN REGISTRO   \n",
       "1    SIN REGISTRO  PARALISIS CEREBRAL INFANTIL            G809   \n",
       "\n",
       "  DEBIDO A (CAUSA F) CAUSA F (CIE-X)  \n",
       "0       SIN REGISTRO    SIN REGISTRO  \n",
       "1       SIN REGISTRO    SIN REGISTRO  \n",
       "\n",
       "[2 rows x 31 columns]"
      ]
     },
     "execution_count": 11,
     "metadata": {},
     "output_type": "execute_result"
    }
   ],
   "source": [
    "data_FALL_SINA=pd.read_csv('fallecidos_sinadef.csv',encoding='latin1',delimiter=\";\", skiprows=2).iloc[:,range(0,31)]\n",
    "data_FALL_SINA.head(2)"
   ]
  },
  {
   "cell_type": "code",
   "execution_count": 12,
   "id": "administrative-period",
   "metadata": {},
   "outputs": [
    {
     "data": {
      "text/plain": [
       "Index(['Nº', 'TIPO SEGURO', 'SEXO', 'EDAD', 'TIEMPO EDAD', 'ESTADO CIVIL',\n",
       "       'NIVEL DE INSTRUCCIÓN', 'COD# UBIGEO DOMICILIO', 'PAIS DOMICILIO',\n",
       "       'DEPARTAMENTO DOMICILIO', 'PROVINCIA DOMICILIO', 'DISTRITO DOMICILIO',\n",
       "       'FECHA', 'AÑO', 'MES', 'TIPO LUGAR', 'INSTITUCION', 'MUERTE VIOLENTA',\n",
       "       'NECROPSIA', 'DEBIDO A (CAUSA A)', 'CAUSA A (CIE-X)',\n",
       "       'DEBIDO A (CAUSA B)', 'CAUSA B (CIE-X)', 'DEBIDO A (CAUSA C)',\n",
       "       'CAUSA C (CIE-X)', 'DEBIDO A (CAUSA D)', 'CAUSA D (CIE-X)',\n",
       "       'DEBIDO A (CAUSA E)', 'CAUSA E (CIE-X)', 'DEBIDO A (CAUSA F)',\n",
       "       'CAUSA F (CIE-X)'],\n",
       "      dtype='object')"
      ]
     },
     "execution_count": 12,
     "metadata": {},
     "output_type": "execute_result"
    }
   ],
   "source": [
    "#necesitamos saber si tiene distrito\n",
    "data_FALL_SINA.columns"
   ]
  },
  {
   "cell_type": "markdown",
   "id": "comfortable-luxury",
   "metadata": {},
   "source": [
    "### Verificando duplicados\n",
    "\n",
    "#### De entre los positivos:\n",
    "\n",
    "Para poder hacer unión entre las tablas de positivios y fallecidos, debemos verificar si existen duplicados en la llave UUID"
   ]
  },
  {
   "cell_type": "code",
   "execution_count": 14,
   "id": "million-westminster",
   "metadata": {},
   "outputs": [],
   "source": [
    "dups_IDPOS= data_POS.pivot_table(index=['UUID'], aggfunc='size')"
   ]
  },
  {
   "cell_type": "code",
   "execution_count": 15,
   "id": "peripheral-spencer",
   "metadata": {},
   "outputs": [
    {
     "data": {
      "text/plain": [
       "(1, 1)"
      ]
     },
     "execution_count": 15,
     "metadata": {},
     "output_type": "execute_result"
    }
   ],
   "source": [
    "(dups_IDPOS.min(),dups_IDPOS.max())"
   ]
  },
  {
   "cell_type": "markdown",
   "id": "subjective-recycling",
   "metadata": {},
   "source": [
    "#### De entre los fallecidos:"
   ]
  },
  {
   "cell_type": "code",
   "execution_count": 16,
   "id": "designing-winner",
   "metadata": {},
   "outputs": [],
   "source": [
    "dups_IDFALL= data_FALL.pivot_table(index=['UUID'], aggfunc='size')"
   ]
  },
  {
   "cell_type": "code",
   "execution_count": 17,
   "id": "analyzed-understanding",
   "metadata": {},
   "outputs": [
    {
     "data": {
      "text/plain": [
       "(1, 1)"
      ]
     },
     "execution_count": 17,
     "metadata": {},
     "output_type": "execute_result"
    }
   ],
   "source": [
    "(dups_IDFALL.min(),dups_IDFALL.max())"
   ]
  },
  {
   "cell_type": "markdown",
   "id": "dramatic-force",
   "metadata": {},
   "source": [
    "### Uniendo tablas"
   ]
  },
  {
   "cell_type": "markdown",
   "id": "separate-seafood",
   "metadata": {},
   "source": [
    "Habiendo verificando que no hya duplicados, podemos hacer un cruce, teniendo como base maestra a la data de positivos y asignando todos los UUID de fallecidos y los atributos de los fallecidos a la unión de estas dos tablas. Debemos fijarnos que la tabla de cruce debe tener el mismo tamaño que la tabla maestra, es decir 1533121 filas.\n",
    "\n",
    "Queda como tarea para el alumno verificar si existen inconsistencias en las tablas, por ejemplo:\n",
    "\n",
    "* ¿De cuando a cuando se registran los fallecidos?\n",
    "* ¿De cuando a cuando se registran los positivos?\n",
    "* Otros"
   ]
  },
  {
   "cell_type": "code",
   "execution_count": 15,
   "id": "excited-participant",
   "metadata": {},
   "outputs": [
    {
     "data": {
      "text/plain": [
       "((1810998, 9), (62126, 9))"
      ]
     },
     "execution_count": 15,
     "metadata": {},
     "output_type": "execute_result"
    }
   ],
   "source": [
    "data_POS.shape, data_FALL.shape"
   ]
  },
  {
   "cell_type": "markdown",
   "id": "electronic-provider",
   "metadata": {},
   "source": [
    "Solo para no perder las bases originales, crearemos una nueva con el contenido de las dos iniciales, pero con un nombre distinto.\n",
    "\n",
    "Adicinalmente, para luego poder verificar que todos los datos de la base de fallecidos, base mas pequeña de solo aprox 50 mil datos haya cruzado, vamos a crear una columba llenas de 1's. Así, cuando el cruce se haya hecho, podremos sumar los 1s en la nueva base. Recordando que la base de fallecidos tiene 62126 la suma en la nueva base nos debe dar este mismo número. "
   ]
  },
  {
   "cell_type": "code",
   "execution_count": 19,
   "id": "dated-taiwan",
   "metadata": {},
   "outputs": [],
   "source": [
    "data_FALL['INDICADOR_EXISTENCIA']=1\n",
    "data_POS['INDICADOR_EXISTENCIA2']=1"
   ]
  },
  {
   "cell_type": "code",
   "execution_count": 20,
   "id": "classified-arizona",
   "metadata": {},
   "outputs": [
    {
     "data": {
      "text/html": [
       "<div>\n",
       "<style scoped>\n",
       "    .dataframe tbody tr th:only-of-type {\n",
       "        vertical-align: middle;\n",
       "    }\n",
       "\n",
       "    .dataframe tbody tr th {\n",
       "        vertical-align: top;\n",
       "    }\n",
       "\n",
       "    .dataframe thead th {\n",
       "        text-align: right;\n",
       "    }\n",
       "</style>\n",
       "<table border=\"1\" class=\"dataframe\">\n",
       "  <thead>\n",
       "    <tr style=\"text-align: right;\">\n",
       "      <th></th>\n",
       "      <th>FECHA_CORTE</th>\n",
       "      <th>UUID</th>\n",
       "      <th>FECHA_FALLECIMIENTO</th>\n",
       "      <th>EDAD_DECLARADA</th>\n",
       "      <th>SEXO</th>\n",
       "      <th>FECHA_NAC</th>\n",
       "      <th>DEPARTAMENTO</th>\n",
       "      <th>PROVINCIA</th>\n",
       "      <th>DISTRITO</th>\n",
       "      <th>INDICADOR_EXISTENCIA</th>\n",
       "    </tr>\n",
       "  </thead>\n",
       "  <tbody>\n",
       "    <tr>\n",
       "      <th>0</th>\n",
       "      <td>20210501</td>\n",
       "      <td>7320cabdc1aaca6c59014cae76a134e6</td>\n",
       "      <td>20200413</td>\n",
       "      <td>65</td>\n",
       "      <td>FEMENINO</td>\n",
       "      <td>19540607.0</td>\n",
       "      <td>LIMA</td>\n",
       "      <td>LIMA</td>\n",
       "      <td>LIMA</td>\n",
       "      <td>1</td>\n",
       "    </tr>\n",
       "    <tr>\n",
       "      <th>1</th>\n",
       "      <td>20210501</td>\n",
       "      <td>e81602051997ace8340bb8c18fe24c65</td>\n",
       "      <td>20200506</td>\n",
       "      <td>52</td>\n",
       "      <td>MASCULINO</td>\n",
       "      <td>NaN</td>\n",
       "      <td>ANCASH</td>\n",
       "      <td>SANTA</td>\n",
       "      <td>CHIMBOTE</td>\n",
       "      <td>1</td>\n",
       "    </tr>\n",
       "  </tbody>\n",
       "</table>\n",
       "</div>"
      ],
      "text/plain": [
       "   FECHA_CORTE                              UUID  FECHA_FALLECIMIENTO  \\\n",
       "0     20210501  7320cabdc1aaca6c59014cae76a134e6             20200413   \n",
       "1     20210501  e81602051997ace8340bb8c18fe24c65             20200506   \n",
       "\n",
       "   EDAD_DECLARADA       SEXO   FECHA_NAC DEPARTAMENTO PROVINCIA  DISTRITO  \\\n",
       "0              65   FEMENINO  19540607.0         LIMA      LIMA      LIMA   \n",
       "1              52  MASCULINO         NaN       ANCASH     SANTA  CHIMBOTE   \n",
       "\n",
       "   INDICADOR_EXISTENCIA  \n",
       "0                     1  \n",
       "1                     1  "
      ]
     },
     "execution_count": 20,
     "metadata": {},
     "output_type": "execute_result"
    }
   ],
   "source": [
    "data_FALL.head(2)"
   ]
  },
  {
   "cell_type": "code",
   "execution_count": 21,
   "id": "confused-laugh",
   "metadata": {},
   "outputs": [],
   "source": [
    "import numpy as np\n",
    "import matplotlib.pyplot as plt\n",
    "import scipy"
   ]
  },
  {
   "cell_type": "code",
   "execution_count": 22,
   "id": "ideal-footage",
   "metadata": {},
   "outputs": [
    {
     "data": {
      "text/plain": [
       "FECHA_FALLECIMIENTO\n",
       "20200318      1\n",
       "20200319      3\n",
       "20200320      2\n",
       "20200321      1\n",
       "20200322      2\n",
       "           ... \n",
       "20210427    326\n",
       "20210428    359\n",
       "20210429    376\n",
       "20210430    312\n",
       "20210501    337\n",
       "Name: INDICADOR_EXISTENCIA, Length: 409, dtype: int64"
      ]
     },
     "execution_count": 22,
     "metadata": {},
     "output_type": "execute_result"
    }
   ],
   "source": [
    "x=data_FALL.groupby(['FECHA_FALLECIMIENTO'])['INDICADOR_EXISTENCIA'].sum()\n",
    "x"
   ]
  },
  {
   "cell_type": "code",
   "execution_count": 23,
   "id": "previous-magic",
   "metadata": {},
   "outputs": [
    {
     "data": {
      "text/html": [
       "<div>\n",
       "<style scoped>\n",
       "    .dataframe tbody tr th:only-of-type {\n",
       "        vertical-align: middle;\n",
       "    }\n",
       "\n",
       "    .dataframe tbody tr th {\n",
       "        vertical-align: top;\n",
       "    }\n",
       "\n",
       "    .dataframe thead th {\n",
       "        text-align: right;\n",
       "    }\n",
       "</style>\n",
       "<table border=\"1\" class=\"dataframe\">\n",
       "  <thead>\n",
       "    <tr style=\"text-align: right;\">\n",
       "      <th></th>\n",
       "      <th>DIA</th>\n",
       "      <th>FALL_DIA</th>\n",
       "    </tr>\n",
       "  </thead>\n",
       "  <tbody>\n",
       "    <tr>\n",
       "      <th>0</th>\n",
       "      <td>20200318</td>\n",
       "      <td>1</td>\n",
       "    </tr>\n",
       "    <tr>\n",
       "      <th>1</th>\n",
       "      <td>20200319</td>\n",
       "      <td>3</td>\n",
       "    </tr>\n",
       "    <tr>\n",
       "      <th>2</th>\n",
       "      <td>20200320</td>\n",
       "      <td>2</td>\n",
       "    </tr>\n",
       "    <tr>\n",
       "      <th>3</th>\n",
       "      <td>20200321</td>\n",
       "      <td>1</td>\n",
       "    </tr>\n",
       "    <tr>\n",
       "      <th>4</th>\n",
       "      <td>20200322</td>\n",
       "      <td>2</td>\n",
       "    </tr>\n",
       "  </tbody>\n",
       "</table>\n",
       "</div>"
      ],
      "text/plain": [
       "        DIA  FALL_DIA\n",
       "0  20200318         1\n",
       "1  20200319         3\n",
       "2  20200320         2\n",
       "3  20200321         1\n",
       "4  20200322         2"
      ]
     },
     "execution_count": 23,
     "metadata": {},
     "output_type": "execute_result"
    }
   ],
   "source": [
    "FALLECIDO_DIA=pd.DataFrame({'DIA':x.index,'FALL_DIA':x.values})\n",
    "FALLECIDO_DIA.head()"
   ]
  },
  {
   "cell_type": "code",
   "execution_count": 24,
   "id": "bearing-mortgage",
   "metadata": {},
   "outputs": [
    {
     "data": {
      "text/plain": [
       "DIA         20210501\n",
       "FALL_DIA         433\n",
       "dtype: int64"
      ]
     },
     "execution_count": 24,
     "metadata": {},
     "output_type": "execute_result"
    }
   ],
   "source": [
    "FALLECIDO_DIA.max()"
   ]
  },
  {
   "cell_type": "code",
   "execution_count": 25,
   "id": "robust-blind",
   "metadata": {},
   "outputs": [
    {
     "data": {
      "text/plain": [
       "433"
      ]
     },
     "execution_count": 25,
     "metadata": {},
     "output_type": "execute_result"
    }
   ],
   "source": [
    "FALLECIDO_DIA.FALL_DIA.max()"
   ]
  },
  {
   "cell_type": "code",
   "execution_count": 26,
   "id": "welsh-bench",
   "metadata": {},
   "outputs": [
    {
     "data": {
      "text/plain": [
       "[<matplotlib.lines.Line2D at 0x1cbaa6e54a8>]"
      ]
     },
     "execution_count": 26,
     "metadata": {},
     "output_type": "execute_result"
    },
    {
     "data": {
      "image/png": "[encoded data removed]",
      "text/plain": [
       "<Figure size 1440x576 with 1 Axes>"
      ]
     },
     "metadata": {
      "needs_background": "light"
     },
     "output_type": "display_data"
    }
   ],
   "source": [
    "plt.figure(figsize=(20,8))\n",
    "plt.xticks(rotation=90)\n",
    "plt.plot(FALLECIDO_DIA.index, FALLECIDO_DIA.FALL_DIA,marker='o', ms=8, linestyle='None',alpha=0.5)"
   ]
  },
  {
   "cell_type": "code",
   "execution_count": 27,
   "id": "posted-performer",
   "metadata": {},
   "outputs": [
    {
     "data": {
      "image/png": "[encoded data removed]",
      "text/plain": [
       "<Figure size 1440x576 with 1 Axes>"
      ]
     },
     "metadata": {
      "needs_background": "light"
     },
     "output_type": "display_data"
    }
   ],
   "source": [
    "rolling = FALLECIDO_DIA.FALL_DIA.rolling(window=7)\n",
    "rolling2= FALLECIDO_DIA.FALL_DIA.rolling(window=14)\n",
    "rolling_mean= rolling.mean()\n",
    "rolling_mean2= rolling2.mean()\n",
    "\n",
    "plt.figure(figsize=(20,8))\n",
    "plt.xticks(rotation=90)\n",
    "FALLECIDO_DIA.FALL_DIA.plot(marker='o',ms=8,linestyle='None',alpha=0.5)\n",
    "rolling_mean.plot(color='red')\n",
    "rolling_mean2.plot(color='purple')\n",
    "plt.show()"
   ]
  },
  {
   "cell_type": "markdown",
   "id": "located-bicycle",
   "metadata": {},
   "source": [
    "### ANALIZANDO LA CURVA DE POSITIVOS"
   ]
  },
  {
   "cell_type": "code",
   "execution_count": 28,
   "id": "quick-partner",
   "metadata": {},
   "outputs": [
    {
     "data": {
      "text/html": [
       "<div>\n",
       "<style scoped>\n",
       "    .dataframe tbody tr th:only-of-type {\n",
       "        vertical-align: middle;\n",
       "    }\n",
       "\n",
       "    .dataframe tbody tr th {\n",
       "        vertical-align: top;\n",
       "    }\n",
       "\n",
       "    .dataframe thead th {\n",
       "        text-align: right;\n",
       "    }\n",
       "</style>\n",
       "<table border=\"1\" class=\"dataframe\">\n",
       "  <thead>\n",
       "    <tr style=\"text-align: right;\">\n",
       "      <th></th>\n",
       "      <th>DIA</th>\n",
       "      <th>POS_DIA</th>\n",
       "    </tr>\n",
       "  </thead>\n",
       "  <tbody>\n",
       "    <tr>\n",
       "      <th>0</th>\n",
       "      <td>20200306.0</td>\n",
       "      <td>1</td>\n",
       "    </tr>\n",
       "    <tr>\n",
       "      <th>1</th>\n",
       "      <td>20200307.0</td>\n",
       "      <td>5</td>\n",
       "    </tr>\n",
       "    <tr>\n",
       "      <th>2</th>\n",
       "      <td>20200308.0</td>\n",
       "      <td>2</td>\n",
       "    </tr>\n",
       "    <tr>\n",
       "      <th>3</th>\n",
       "      <td>20200309.0</td>\n",
       "      <td>3</td>\n",
       "    </tr>\n",
       "    <tr>\n",
       "      <th>4</th>\n",
       "      <td>20200310.0</td>\n",
       "      <td>1</td>\n",
       "    </tr>\n",
       "    <tr>\n",
       "      <th>...</th>\n",
       "      <td>...</td>\n",
       "      <td>...</td>\n",
       "    </tr>\n",
       "    <tr>\n",
       "      <th>415</th>\n",
       "      <td>20210427.0</td>\n",
       "      <td>7050</td>\n",
       "    </tr>\n",
       "    <tr>\n",
       "      <th>416</th>\n",
       "      <td>20210428.0</td>\n",
       "      <td>6037</td>\n",
       "    </tr>\n",
       "    <tr>\n",
       "      <th>417</th>\n",
       "      <td>20210429.0</td>\n",
       "      <td>5904</td>\n",
       "    </tr>\n",
       "    <tr>\n",
       "      <th>418</th>\n",
       "      <td>20210430.0</td>\n",
       "      <td>5565</td>\n",
       "    </tr>\n",
       "    <tr>\n",
       "      <th>419</th>\n",
       "      <td>20210501.0</td>\n",
       "      <td>1685</td>\n",
       "    </tr>\n",
       "  </tbody>\n",
       "</table>\n",
       "<p>420 rows × 2 columns</p>\n",
       "</div>"
      ],
      "text/plain": [
       "            DIA  POS_DIA\n",
       "0    20200306.0        1\n",
       "1    20200307.0        5\n",
       "2    20200308.0        2\n",
       "3    20200309.0        3\n",
       "4    20200310.0        1\n",
       "..          ...      ...\n",
       "415  20210427.0     7050\n",
       "416  20210428.0     6037\n",
       "417  20210429.0     5904\n",
       "418  20210430.0     5565\n",
       "419  20210501.0     1685\n",
       "\n",
       "[420 rows x 2 columns]"
      ]
     },
     "execution_count": 28,
     "metadata": {},
     "output_type": "execute_result"
    }
   ],
   "source": [
    "x1=data_POS.groupby(['FECHA_RESULTADO'])['INDICADOR_EXISTENCIA2'].sum()\n",
    "POSITIVO_DIA=pd.DataFrame({'DIA':x1.index, 'POS_DIA':x1.values})\n",
    "POSITIVO_DIA"
   ]
  },
  {
   "cell_type": "code",
   "execution_count": 29,
   "id": "administrative-cooking",
   "metadata": {},
   "outputs": [
    {
     "data": {
      "image/png": "[encoded data removed]",
      "text/plain": [
       "<Figure size 1440x576 with 1 Axes>"
      ]
     },
     "metadata": {
      "needs_background": "light"
     },
     "output_type": "display_data"
    }
   ],
   "source": [
    "rolling3 = POSITIVO_DIA.POS_DIA.rolling(window=7)\n",
    "rolling4= POSITIVO_DIA.POS_DIA.rolling(window=14)\n",
    "rolling_mean3= rolling3.mean()\n",
    "rolling_mean4= rolling4.mean()\n",
    "\n",
    "plt.figure(figsize=(20,8))\n",
    "plt.xticks(rotation=90)\n",
    "POSITIVO_DIA.POS_DIA.plot(marker='o',ms=8,linestyle='None',alpha=0.5)\n",
    "rolling_mean3.plot(color='red')\n",
    "rolling_mean4.plot(color='purple')\n",
    "plt.show()"
   ]
  },
  {
   "cell_type": "markdown",
   "id": "focal-oklahoma",
   "metadata": {},
   "source": [
    "### ¿Pueden  mezclarse ambas bases?"
   ]
  },
  {
   "cell_type": "code",
   "execution_count": 17,
   "id": "plastic-tracy",
   "metadata": {},
   "outputs": [],
   "source": [
    "data_FALL['INDICADOR_EXISTENCIA1']=1\n",
    "data_POS['INDICADOR_EXISTENCIA2']=1"
   ]
  },
  {
   "cell_type": "code",
   "execution_count": 16,
   "id": "answering-charleston",
   "metadata": {},
   "outputs": [
    {
     "data": {
      "text/plain": [
       "((1810998, 9), (62126, 9))"
      ]
     },
     "execution_count": 16,
     "metadata": {},
     "output_type": "execute_result"
    }
   ],
   "source": [
    "data_POS.shape, data_FALL.shape"
   ]
  },
  {
   "cell_type": "code",
   "execution_count": 18,
   "id": "competent-breast",
   "metadata": {},
   "outputs": [
    {
     "data": {
      "text/html": [
       "<div>\n",
       "<style scoped>\n",
       "    .dataframe tbody tr th:only-of-type {\n",
       "        vertical-align: middle;\n",
       "    }\n",
       "\n",
       "    .dataframe tbody tr th {\n",
       "        vertical-align: top;\n",
       "    }\n",
       "\n",
       "    .dataframe thead th {\n",
       "        text-align: right;\n",
       "    }\n",
       "</style>\n",
       "<table border=\"1\" class=\"dataframe\">\n",
       "  <thead>\n",
       "    <tr style=\"text-align: right;\">\n",
       "      <th></th>\n",
       "      <th>FECHA_CORTE_x</th>\n",
       "      <th>UUID</th>\n",
       "      <th>DEPARTAMENTO_x</th>\n",
       "      <th>PROVINCIA_x</th>\n",
       "      <th>DISTRITO_x</th>\n",
       "      <th>METODODX</th>\n",
       "      <th>EDAD</th>\n",
       "      <th>SEXO_x</th>\n",
       "      <th>FECHA_RESULTADO</th>\n",
       "      <th>INDICADOR_EXISTENCIA2</th>\n",
       "      <th>FECHA_CORTE_y</th>\n",
       "      <th>FECHA_FALLECIMIENTO</th>\n",
       "      <th>EDAD_DECLARADA</th>\n",
       "      <th>SEXO_y</th>\n",
       "      <th>FECHA_NAC</th>\n",
       "      <th>DEPARTAMENTO_y</th>\n",
       "      <th>PROVINCIA_y</th>\n",
       "      <th>DISTRITO_y</th>\n",
       "      <th>INDICADOR_EXISTENCIA</th>\n",
       "    </tr>\n",
       "  </thead>\n",
       "  <tbody>\n",
       "    <tr>\n",
       "      <th>0</th>\n",
       "      <td>20210501</td>\n",
       "      <td>7320cabdc1aaca6c59014cae76a134e6</td>\n",
       "      <td>ICA</td>\n",
       "      <td>ICA</td>\n",
       "      <td>LA TINGUIÑA</td>\n",
       "      <td>PR</td>\n",
       "      <td>37.0</td>\n",
       "      <td>FEMENINO</td>\n",
       "      <td>20200923.0</td>\n",
       "      <td>1</td>\n",
       "      <td>20210501.0</td>\n",
       "      <td>20200413.0</td>\n",
       "      <td>65.0</td>\n",
       "      <td>FEMENINO</td>\n",
       "      <td>19540607.0</td>\n",
       "      <td>LIMA</td>\n",
       "      <td>LIMA</td>\n",
       "      <td>LIMA</td>\n",
       "      <td>1.0</td>\n",
       "    </tr>\n",
       "    <tr>\n",
       "      <th>1</th>\n",
       "      <td>20210501</td>\n",
       "      <td>cecdbf10074dbc011ae05b3cbd320a6f</td>\n",
       "      <td>ICA</td>\n",
       "      <td>ICA</td>\n",
       "      <td>LA TINGUIÑA</td>\n",
       "      <td>PR</td>\n",
       "      <td>49.0</td>\n",
       "      <td>FEMENINO</td>\n",
       "      <td>20200923.0</td>\n",
       "      <td>1</td>\n",
       "      <td>20210501.0</td>\n",
       "      <td>20200510.0</td>\n",
       "      <td>64.0</td>\n",
       "      <td>MASCULINO</td>\n",
       "      <td>19551104.0</td>\n",
       "      <td>PIURA</td>\n",
       "      <td>PIURA</td>\n",
       "      <td>PIURA</td>\n",
       "      <td>1.0</td>\n",
       "    </tr>\n",
       "    <tr>\n",
       "      <th>2</th>\n",
       "      <td>20210501</td>\n",
       "      <td>71ecb6bccb248b0bb2ac72ed51b5e979</td>\n",
       "      <td>ICA</td>\n",
       "      <td>ICA</td>\n",
       "      <td>LA TINGUIÑA</td>\n",
       "      <td>PR</td>\n",
       "      <td>36.0</td>\n",
       "      <td>FEMENINO</td>\n",
       "      <td>20200922.0</td>\n",
       "      <td>1</td>\n",
       "      <td>20210501.0</td>\n",
       "      <td>20200510.0</td>\n",
       "      <td>58.0</td>\n",
       "      <td>FEMENINO</td>\n",
       "      <td>19611004.0</td>\n",
       "      <td>LIMA</td>\n",
       "      <td>LIMA</td>\n",
       "      <td>VILLA MARIA DEL TRIUNFO</td>\n",
       "      <td>1.0</td>\n",
       "    </tr>\n",
       "    <tr>\n",
       "      <th>3</th>\n",
       "      <td>20210501</td>\n",
       "      <td>566af4276cbe9359abe93f9aa86396c3</td>\n",
       "      <td>ICA</td>\n",
       "      <td>EN INVESTIGACIÓN</td>\n",
       "      <td>EN INVESTIGACIÓN</td>\n",
       "      <td>PR</td>\n",
       "      <td>51.0</td>\n",
       "      <td>FEMENINO</td>\n",
       "      <td>20200922.0</td>\n",
       "      <td>1</td>\n",
       "      <td>20210501.0</td>\n",
       "      <td>20200414.0</td>\n",
       "      <td>53.0</td>\n",
       "      <td>MASCULINO</td>\n",
       "      <td>19660507.0</td>\n",
       "      <td>CALLAO</td>\n",
       "      <td>CALLAO</td>\n",
       "      <td>CALLAO</td>\n",
       "      <td>1.0</td>\n",
       "    </tr>\n",
       "    <tr>\n",
       "      <th>4</th>\n",
       "      <td>20210501</td>\n",
       "      <td>027561e9d126e7c283d79c02cede562d</td>\n",
       "      <td>ICA</td>\n",
       "      <td>ICA</td>\n",
       "      <td>LA TINGUIÑA</td>\n",
       "      <td>PR</td>\n",
       "      <td>36.0</td>\n",
       "      <td>FEMENINO</td>\n",
       "      <td>20201022.0</td>\n",
       "      <td>1</td>\n",
       "      <td>20210501.0</td>\n",
       "      <td>20200522.0</td>\n",
       "      <td>66.0</td>\n",
       "      <td>FEMENINO</td>\n",
       "      <td>NaN</td>\n",
       "      <td>ANCASH</td>\n",
       "      <td>SANTA</td>\n",
       "      <td>CHIMBOTE</td>\n",
       "      <td>1.0</td>\n",
       "    </tr>\n",
       "  </tbody>\n",
       "</table>\n",
       "</div>"
      ],
      "text/plain": [
       "   FECHA_CORTE_x                              UUID DEPARTAMENTO_x  \\\n",
       "0       20210501  7320cabdc1aaca6c59014cae76a134e6            ICA   \n",
       "1       20210501  cecdbf10074dbc011ae05b3cbd320a6f            ICA   \n",
       "2       20210501  71ecb6bccb248b0bb2ac72ed51b5e979            ICA   \n",
       "3       20210501  566af4276cbe9359abe93f9aa86396c3            ICA   \n",
       "4       20210501  027561e9d126e7c283d79c02cede562d            ICA   \n",
       "\n",
       "        PROVINCIA_x        DISTRITO_x METODODX  EDAD    SEXO_x  \\\n",
       "0               ICA       LA TINGUIÑA       PR  37.0  FEMENINO   \n",
       "1               ICA       LA TINGUIÑA       PR  49.0  FEMENINO   \n",
       "2               ICA       LA TINGUIÑA       PR  36.0  FEMENINO   \n",
       "3  EN INVESTIGACIÓN  EN INVESTIGACIÓN       PR  51.0  FEMENINO   \n",
       "4               ICA       LA TINGUIÑA       PR  36.0  FEMENINO   \n",
       "\n",
       "   FECHA_RESULTADO  INDICADOR_EXISTENCIA2  FECHA_CORTE_y  FECHA_FALLECIMIENTO  \\\n",
       "0       20200923.0                      1     20210501.0           20200413.0   \n",
       "1       20200923.0                      1     20210501.0           20200510.0   \n",
       "2       20200922.0                      1     20210501.0           20200510.0   \n",
       "3       20200922.0                      1     20210501.0           20200414.0   \n",
       "4       20201022.0                      1     20210501.0           20200522.0   \n",
       "\n",
       "   EDAD_DECLARADA     SEXO_y   FECHA_NAC DEPARTAMENTO_y PROVINCIA_y  \\\n",
       "0            65.0   FEMENINO  19540607.0           LIMA        LIMA   \n",
       "1            64.0  MASCULINO  19551104.0          PIURA       PIURA   \n",
       "2            58.0   FEMENINO  19611004.0           LIMA        LIMA   \n",
       "3            53.0  MASCULINO  19660507.0         CALLAO      CALLAO   \n",
       "4            66.0   FEMENINO         NaN         ANCASH       SANTA   \n",
       "\n",
       "                DISTRITO_y  INDICADOR_EXISTENCIA  \n",
       "0                     LIMA                   1.0  \n",
       "1                    PIURA                   1.0  \n",
       "2  VILLA MARIA DEL TRIUNFO                   1.0  \n",
       "3                   CALLAO                   1.0  \n",
       "4                 CHIMBOTE                   1.0  "
      ]
     },
     "execution_count": 18,
     "metadata": {},
     "output_type": "execute_result"
    }
   ],
   "source": [
    "dataCruce1= pd.merge(data_POS, data_FALL, how='left' , left_on=['UUID'], right_on = ['UUID'])\n",
    "dataCruce1.head() # REVISAR INCOHERENCIA DE DISTRITOS"
   ]
  },
  {
   "cell_type": "code",
   "execution_count": 32,
   "id": "aquatic-sentence",
   "metadata": {},
   "outputs": [
    {
     "data": {
      "text/plain": [
       "(62126.0, 1810998)"
      ]
     },
     "execution_count": 32,
     "metadata": {},
     "output_type": "execute_result"
    }
   ],
   "source": [
    "dataCruce1.INDICADOR_EXISTENCIA.sum(), dataCruce1.shape[0]"
   ]
  },
  {
   "cell_type": "code",
   "execution_count": 32,
   "id": "trained-portsmouth",
   "metadata": {},
   "outputs": [
    {
     "data": {
      "text/plain": [
       "((1810998, 10), (62126, 10))"
      ]
     },
     "execution_count": 32,
     "metadata": {},
     "output_type": "execute_result"
    }
   ],
   "source": [
    "data_POS.shape, data_FALL.shape"
   ]
  },
  {
   "cell_type": "code",
   "execution_count": 33,
   "id": "clinical-compromise",
   "metadata": {},
   "outputs": [
    {
     "data": {
      "text/plain": [
       "Index(['FECHA_CORTE_x', 'UUID', 'DEPARTAMENTO_x', 'PROVINCIA_x', 'DISTRITO_x',\n",
       "       'METODODX', 'EDAD', 'SEXO_x', 'FECHA_RESULTADO',\n",
       "       'INDICADOR_EXISTENCIA2', 'FECHA_CORTE_y', 'FECHA_FALLECIMIENTO',\n",
       "       'EDAD_DECLARADA', 'SEXO_y', 'FECHA_NAC', 'DEPARTAMENTO_y',\n",
       "       'PROVINCIA_y', 'DISTRITO_y', 'INDICADOR_EXISTENCIA'],\n",
       "      dtype='object')"
      ]
     },
     "execution_count": 33,
     "metadata": {},
     "output_type": "execute_result"
    }
   ],
   "source": [
    "dataCruce1.columns"
   ]
  },
  {
   "cell_type": "code",
   "execution_count": 34,
   "id": "golden-battlefield",
   "metadata": {},
   "outputs": [
    {
     "data": {
      "text/html": [
       "<div>\n",
       "<style scoped>\n",
       "    .dataframe tbody tr th:only-of-type {\n",
       "        vertical-align: middle;\n",
       "    }\n",
       "\n",
       "    .dataframe tbody tr th {\n",
       "        vertical-align: top;\n",
       "    }\n",
       "\n",
       "    .dataframe thead th {\n",
       "        text-align: right;\n",
       "    }\n",
       "</style>\n",
       "<table border=\"1\" class=\"dataframe\">\n",
       "  <thead>\n",
       "    <tr style=\"text-align: right;\">\n",
       "      <th></th>\n",
       "      <th>UUID</th>\n",
       "      <th>DEPARTAMENTO_x</th>\n",
       "      <th>PROVINCIA_x</th>\n",
       "      <th>DISTRITO_x</th>\n",
       "      <th>METODODX</th>\n",
       "      <th>EDAD</th>\n",
       "      <th>SEXO_x</th>\n",
       "      <th>FECHA_RESULTADO</th>\n",
       "      <th>INDICADOR_EXISTENCIA2</th>\n",
       "      <th>FECHA_CORTE_y</th>\n",
       "      <th>FECHA_FALLECIMIENTO</th>\n",
       "      <th>EDAD_DECLARADA</th>\n",
       "      <th>SEXO_y</th>\n",
       "      <th>FECHA_NAC</th>\n",
       "      <th>DEPARTAMENTO_y</th>\n",
       "      <th>PROVINCIA_y</th>\n",
       "      <th>DISTRITO_y</th>\n",
       "      <th>INDICADOR_EXISTENCIA</th>\n",
       "    </tr>\n",
       "  </thead>\n",
       "  <tbody>\n",
       "    <tr>\n",
       "      <th>0</th>\n",
       "      <td>7320cabdc1aaca6c59014cae76a134e6</td>\n",
       "      <td>ICA</td>\n",
       "      <td>ICA</td>\n",
       "      <td>LA TINGUIÑA</td>\n",
       "      <td>PR</td>\n",
       "      <td>37.0</td>\n",
       "      <td>FEMENINO</td>\n",
       "      <td>20200923.0</td>\n",
       "      <td>1</td>\n",
       "      <td>20210501.0</td>\n",
       "      <td>20200413.0</td>\n",
       "      <td>65.0</td>\n",
       "      <td>FEMENINO</td>\n",
       "      <td>19540607.0</td>\n",
       "      <td>LIMA</td>\n",
       "      <td>LIMA</td>\n",
       "      <td>LIMA</td>\n",
       "      <td>1.0</td>\n",
       "    </tr>\n",
       "    <tr>\n",
       "      <th>1</th>\n",
       "      <td>cecdbf10074dbc011ae05b3cbd320a6f</td>\n",
       "      <td>ICA</td>\n",
       "      <td>ICA</td>\n",
       "      <td>LA TINGUIÑA</td>\n",
       "      <td>PR</td>\n",
       "      <td>49.0</td>\n",
       "      <td>FEMENINO</td>\n",
       "      <td>20200923.0</td>\n",
       "      <td>1</td>\n",
       "      <td>20210501.0</td>\n",
       "      <td>20200510.0</td>\n",
       "      <td>64.0</td>\n",
       "      <td>MASCULINO</td>\n",
       "      <td>19551104.0</td>\n",
       "      <td>PIURA</td>\n",
       "      <td>PIURA</td>\n",
       "      <td>PIURA</td>\n",
       "      <td>1.0</td>\n",
       "    </tr>\n",
       "    <tr>\n",
       "      <th>2</th>\n",
       "      <td>71ecb6bccb248b0bb2ac72ed51b5e979</td>\n",
       "      <td>ICA</td>\n",
       "      <td>ICA</td>\n",
       "      <td>LA TINGUIÑA</td>\n",
       "      <td>PR</td>\n",
       "      <td>36.0</td>\n",
       "      <td>FEMENINO</td>\n",
       "      <td>20200922.0</td>\n",
       "      <td>1</td>\n",
       "      <td>20210501.0</td>\n",
       "      <td>20200510.0</td>\n",
       "      <td>58.0</td>\n",
       "      <td>FEMENINO</td>\n",
       "      <td>19611004.0</td>\n",
       "      <td>LIMA</td>\n",
       "      <td>LIMA</td>\n",
       "      <td>VILLA MARIA DEL TRIUNFO</td>\n",
       "      <td>1.0</td>\n",
       "    </tr>\n",
       "    <tr>\n",
       "      <th>3</th>\n",
       "      <td>566af4276cbe9359abe93f9aa86396c3</td>\n",
       "      <td>ICA</td>\n",
       "      <td>EN INVESTIGACIÓN</td>\n",
       "      <td>EN INVESTIGACIÓN</td>\n",
       "      <td>PR</td>\n",
       "      <td>51.0</td>\n",
       "      <td>FEMENINO</td>\n",
       "      <td>20200922.0</td>\n",
       "      <td>1</td>\n",
       "      <td>20210501.0</td>\n",
       "      <td>20200414.0</td>\n",
       "      <td>53.0</td>\n",
       "      <td>MASCULINO</td>\n",
       "      <td>19660507.0</td>\n",
       "      <td>CALLAO</td>\n",
       "      <td>CALLAO</td>\n",
       "      <td>CALLAO</td>\n",
       "      <td>1.0</td>\n",
       "    </tr>\n",
       "    <tr>\n",
       "      <th>4</th>\n",
       "      <td>027561e9d126e7c283d79c02cede562d</td>\n",
       "      <td>ICA</td>\n",
       "      <td>ICA</td>\n",
       "      <td>LA TINGUIÑA</td>\n",
       "      <td>PR</td>\n",
       "      <td>36.0</td>\n",
       "      <td>FEMENINO</td>\n",
       "      <td>20201022.0</td>\n",
       "      <td>1</td>\n",
       "      <td>20210501.0</td>\n",
       "      <td>20200522.0</td>\n",
       "      <td>66.0</td>\n",
       "      <td>FEMENINO</td>\n",
       "      <td>NaN</td>\n",
       "      <td>ANCASH</td>\n",
       "      <td>SANTA</td>\n",
       "      <td>CHIMBOTE</td>\n",
       "      <td>1.0</td>\n",
       "    </tr>\n",
       "  </tbody>\n",
       "</table>\n",
       "</div>"
      ],
      "text/plain": [
       "                               UUID DEPARTAMENTO_x       PROVINCIA_x  \\\n",
       "0  7320cabdc1aaca6c59014cae76a134e6            ICA               ICA   \n",
       "1  cecdbf10074dbc011ae05b3cbd320a6f            ICA               ICA   \n",
       "2  71ecb6bccb248b0bb2ac72ed51b5e979            ICA               ICA   \n",
       "3  566af4276cbe9359abe93f9aa86396c3            ICA  EN INVESTIGACIÓN   \n",
       "4  027561e9d126e7c283d79c02cede562d            ICA               ICA   \n",
       "\n",
       "         DISTRITO_x METODODX  EDAD    SEXO_x  FECHA_RESULTADO  \\\n",
       "0       LA TINGUIÑA       PR  37.0  FEMENINO       20200923.0   \n",
       "1       LA TINGUIÑA       PR  49.0  FEMENINO       20200923.0   \n",
       "2       LA TINGUIÑA       PR  36.0  FEMENINO       20200922.0   \n",
       "3  EN INVESTIGACIÓN       PR  51.0  FEMENINO       20200922.0   \n",
       "4       LA TINGUIÑA       PR  36.0  FEMENINO       20201022.0   \n",
       "\n",
       "   INDICADOR_EXISTENCIA2  FECHA_CORTE_y  FECHA_FALLECIMIENTO  EDAD_DECLARADA  \\\n",
       "0                      1     20210501.0           20200413.0            65.0   \n",
       "1                      1     20210501.0           20200510.0            64.0   \n",
       "2                      1     20210501.0           20200510.0            58.0   \n",
       "3                      1     20210501.0           20200414.0            53.0   \n",
       "4                      1     20210501.0           20200522.0            66.0   \n",
       "\n",
       "      SEXO_y   FECHA_NAC DEPARTAMENTO_y PROVINCIA_y               DISTRITO_y  \\\n",
       "0   FEMENINO  19540607.0           LIMA        LIMA                     LIMA   \n",
       "1  MASCULINO  19551104.0          PIURA       PIURA                    PIURA   \n",
       "2   FEMENINO  19611004.0           LIMA        LIMA  VILLA MARIA DEL TRIUNFO   \n",
       "3  MASCULINO  19660507.0         CALLAO      CALLAO                   CALLAO   \n",
       "4   FEMENINO         NaN         ANCASH       SANTA                 CHIMBOTE   \n",
       "\n",
       "   INDICADOR_EXISTENCIA  \n",
       "0                   1.0  \n",
       "1                   1.0  \n",
       "2                   1.0  \n",
       "3                   1.0  \n",
       "4                   1.0  "
      ]
     },
     "execution_count": 34,
     "metadata": {},
     "output_type": "execute_result"
    }
   ],
   "source": [
    "dataCruce2=dataCruce1[['UUID', 'DEPARTAMENTO_x', 'PROVINCIA_x', 'DISTRITO_x',\n",
    "       'METODODX', 'EDAD', 'SEXO_x', 'FECHA_RESULTADO',\n",
    "       'INDICADOR_EXISTENCIA2', 'FECHA_CORTE_y', 'FECHA_FALLECIMIENTO',\n",
    "       'EDAD_DECLARADA', 'SEXO_y', 'FECHA_NAC', 'DEPARTAMENTO_y',\n",
    "       'PROVINCIA_y', 'DISTRITO_y', 'INDICADOR_EXISTENCIA']]\n",
    "dataCruce2.head()"
   ]
  },
  {
   "cell_type": "code",
   "execution_count": 35,
   "id": "pointed-beads",
   "metadata": {},
   "outputs": [
    {
     "data": {
      "text/plain": [
       "9732"
      ]
     },
     "execution_count": 35,
     "metadata": {},
     "output_type": "execute_result"
    }
   ],
   "source": [
    "sum(dataCruce2['DEPARTAMENTO_x']==dataCruce2['DEPARTAMENTO_y'])"
   ]
  },
  {
   "cell_type": "markdown",
   "id": "variable-muslim",
   "metadata": {},
   "source": [
    "#### NOTA1: \n",
    "Deberian ser aproximadamente la misma cantidad de personas fallecidas"
   ]
  },
  {
   "cell_type": "code",
   "execution_count": 36,
   "id": "aquatic-coupon",
   "metadata": {},
   "outputs": [
    {
     "data": {
      "text/plain": [
       "8105"
      ]
     },
     "execution_count": 36,
     "metadata": {},
     "output_type": "execute_result"
    }
   ],
   "source": [
    "sum(dataCruce2['PROVINCIA_x']==dataCruce2['PROVINCIA_y'])"
   ]
  },
  {
   "cell_type": "code",
   "execution_count": 37,
   "id": "adjacent-motion",
   "metadata": {},
   "outputs": [
    {
     "data": {
      "text/plain": [
       "498"
      ]
     },
     "execution_count": 37,
     "metadata": {},
     "output_type": "execute_result"
    }
   ],
   "source": [
    "sum(dataCruce2['DISTRITO_x']==dataCruce2['DISTRITO_y'])"
   ]
  },
  {
   "cell_type": "markdown",
   "id": "upset-following",
   "metadata": {},
   "source": [
    "#### Aparentemente no"
   ]
  },
  {
   "cell_type": "markdown",
   "id": "respected-peninsula",
   "metadata": {},
   "source": [
    "## ANALIZANDO LA DATA DEL SINADEF"
   ]
  },
  {
   "cell_type": "code",
   "execution_count": 38,
   "id": "nonprofit-shell",
   "metadata": {},
   "outputs": [
    {
     "data": {
      "text/plain": [
       "Index(['Nº', 'TIPO SEGURO', 'SEXO', 'EDAD', 'TIEMPO EDAD', 'ESTADO CIVIL',\n",
       "       'NIVEL DE INSTRUCCIÓN', 'COD# UBIGEO DOMICILIO', 'PAIS DOMICILIO',\n",
       "       'DEPARTAMENTO DOMICILIO', 'PROVINCIA DOMICILIO', 'DISTRITO DOMICILIO',\n",
       "       'FECHA', 'AÑO', 'MES', 'TIPO LUGAR', 'INSTITUCION', 'MUERTE VIOLENTA',\n",
       "       'NECROPSIA', 'DEBIDO A (CAUSA A)', 'CAUSA A (CIE-X)',\n",
       "       'DEBIDO A (CAUSA B)', 'CAUSA B (CIE-X)', 'DEBIDO A (CAUSA C)',\n",
       "       'CAUSA C (CIE-X)', 'DEBIDO A (CAUSA D)', 'CAUSA D (CIE-X)',\n",
       "       'DEBIDO A (CAUSA E)', 'CAUSA E (CIE-X)', 'DEBIDO A (CAUSA F)',\n",
       "       'CAUSA F (CIE-X)'],\n",
       "      dtype='object')"
      ]
     },
     "execution_count": 38,
     "metadata": {},
     "output_type": "execute_result"
    }
   ],
   "source": [
    "data_FALL_SINA.columns"
   ]
  },
  {
   "cell_type": "code",
   "execution_count": 39,
   "id": "settled-choice",
   "metadata": {},
   "outputs": [
    {
     "data": {
      "text/html": [
       "<div>\n",
       "<style scoped>\n",
       "    .dataframe tbody tr th:only-of-type {\n",
       "        vertical-align: middle;\n",
       "    }\n",
       "\n",
       "    .dataframe tbody tr th {\n",
       "        vertical-align: top;\n",
       "    }\n",
       "\n",
       "    .dataframe thead th {\n",
       "        text-align: right;\n",
       "    }\n",
       "</style>\n",
       "<table border=\"1\" class=\"dataframe\">\n",
       "  <thead>\n",
       "    <tr style=\"text-align: right;\">\n",
       "      <th></th>\n",
       "      <th>Nº</th>\n",
       "      <th>TIPO SEGURO</th>\n",
       "      <th>SEXO</th>\n",
       "      <th>EDAD</th>\n",
       "      <th>TIEMPO EDAD</th>\n",
       "      <th>ESTADO CIVIL</th>\n",
       "      <th>NIVEL DE INSTRUCCIÓN</th>\n",
       "      <th>COD# UBIGEO DOMICILIO</th>\n",
       "      <th>PAIS DOMICILIO</th>\n",
       "      <th>DEPARTAMENTO DOMICILIO</th>\n",
       "      <th>...</th>\n",
       "      <th>DEBIDO A (CAUSA B)</th>\n",
       "      <th>CAUSA B (CIE-X)</th>\n",
       "      <th>DEBIDO A (CAUSA C)</th>\n",
       "      <th>CAUSA C (CIE-X)</th>\n",
       "      <th>DEBIDO A (CAUSA D)</th>\n",
       "      <th>CAUSA D (CIE-X)</th>\n",
       "      <th>DEBIDO A (CAUSA E)</th>\n",
       "      <th>CAUSA E (CIE-X)</th>\n",
       "      <th>DEBIDO A (CAUSA F)</th>\n",
       "      <th>CAUSA F (CIE-X)</th>\n",
       "    </tr>\n",
       "  </thead>\n",
       "  <tbody>\n",
       "    <tr>\n",
       "      <th>0</th>\n",
       "      <td>1</td>\n",
       "      <td>SIS</td>\n",
       "      <td>SIN REGISTRO</td>\n",
       "      <td>SIN REGISTRO</td>\n",
       "      <td>SIN REGISTRO</td>\n",
       "      <td>SIN REGISTRO</td>\n",
       "      <td>SUPERIOR NO UNIV. COMP.</td>\n",
       "      <td>SIN REGISTRO</td>\n",
       "      <td>PERU</td>\n",
       "      <td>LA LIBERTAD</td>\n",
       "      <td>...</td>\n",
       "      <td>DIFICULTAD RESPIRATORIA DEL RECIEN NACIDO</td>\n",
       "      <td>P229</td>\n",
       "      <td>INMATURIDAD EXTREMA</td>\n",
       "      <td>P072</td>\n",
       "      <td>SIN REGISTRO</td>\n",
       "      <td>SIN REGISTRO</td>\n",
       "      <td>SIN REGISTRO</td>\n",
       "      <td>SIN REGISTRO</td>\n",
       "      <td>SIN REGISTRO</td>\n",
       "      <td>SIN REGISTRO</td>\n",
       "    </tr>\n",
       "    <tr>\n",
       "      <th>1</th>\n",
       "      <td>2</td>\n",
       "      <td>SIS</td>\n",
       "      <td>MASCULINO</td>\n",
       "      <td>4</td>\n",
       "      <td>AÑOS</td>\n",
       "      <td>SOLTERO</td>\n",
       "      <td>IGNORADO</td>\n",
       "      <td>92-33-21-04-01-000</td>\n",
       "      <td>PERU</td>\n",
       "      <td>SAN MARTIN</td>\n",
       "      <td>...</td>\n",
       "      <td>NEUMONIA SEVERA</td>\n",
       "      <td>J159</td>\n",
       "      <td>SIN REGISTRO</td>\n",
       "      <td>SIN REGISTRO</td>\n",
       "      <td>SIN REGISTRO</td>\n",
       "      <td>SIN REGISTRO</td>\n",
       "      <td>PARALISIS CEREBRAL INFANTIL</td>\n",
       "      <td>G809</td>\n",
       "      <td>SIN REGISTRO</td>\n",
       "      <td>SIN REGISTRO</td>\n",
       "    </tr>\n",
       "  </tbody>\n",
       "</table>\n",
       "<p>2 rows × 31 columns</p>\n",
       "</div>"
      ],
      "text/plain": [
       "   Nº TIPO SEGURO          SEXO          EDAD   TIEMPO EDAD  ESTADO CIVIL  \\\n",
       "0   1         SIS  SIN REGISTRO  SIN REGISTRO  SIN REGISTRO  SIN REGISTRO   \n",
       "1   2         SIS     MASCULINO             4          AÑOS       SOLTERO   \n",
       "\n",
       "      NIVEL DE INSTRUCCIÓN COD# UBIGEO DOMICILIO PAIS DOMICILIO  \\\n",
       "0  SUPERIOR NO UNIV. COMP.          SIN REGISTRO           PERU   \n",
       "1                 IGNORADO    92-33-21-04-01-000           PERU   \n",
       "\n",
       "  DEPARTAMENTO DOMICILIO  ...                         DEBIDO A (CAUSA B)  \\\n",
       "0            LA LIBERTAD  ...  DIFICULTAD RESPIRATORIA DEL RECIEN NACIDO   \n",
       "1             SAN MARTIN  ...                            NEUMONIA SEVERA   \n",
       "\n",
       "  CAUSA B (CIE-X)   DEBIDO A (CAUSA C)  CAUSA C (CIE-X)  DEBIDO A (CAUSA D)  \\\n",
       "0            P229  INMATURIDAD EXTREMA             P072        SIN REGISTRO   \n",
       "1            J159         SIN REGISTRO     SIN REGISTRO        SIN REGISTRO   \n",
       "\n",
       "  CAUSA D (CIE-X)           DEBIDO A (CAUSA E) CAUSA E (CIE-X)  \\\n",
       "0    SIN REGISTRO                 SIN REGISTRO    SIN REGISTRO   \n",
       "1    SIN REGISTRO  PARALISIS CEREBRAL INFANTIL            G809   \n",
       "\n",
       "  DEBIDO A (CAUSA F) CAUSA F (CIE-X)  \n",
       "0       SIN REGISTRO    SIN REGISTRO  \n",
       "1       SIN REGISTRO    SIN REGISTRO  \n",
       "\n",
       "[2 rows x 31 columns]"
      ]
     },
     "execution_count": 39,
     "metadata": {},
     "output_type": "execute_result"
    }
   ],
   "source": [
    "data_FALL_SINA.head(2)"
   ]
  },
  {
   "cell_type": "code",
   "execution_count": 40,
   "id": "lined-occupation",
   "metadata": {},
   "outputs": [
    {
     "data": {
      "text/plain": [
       "(661112, 31)"
      ]
     },
     "execution_count": 40,
     "metadata": {},
     "output_type": "execute_result"
    }
   ],
   "source": [
    "data_FALL_SINA.shape"
   ]
  },
  {
   "cell_type": "code",
   "execution_count": 41,
   "id": "delayed-aquarium",
   "metadata": {},
   "outputs": [
    {
     "data": {
      "text/html": [
       "<div>\n",
       "<style scoped>\n",
       "    .dataframe tbody tr th:only-of-type {\n",
       "        vertical-align: middle;\n",
       "    }\n",
       "\n",
       "    .dataframe tbody tr th {\n",
       "        vertical-align: top;\n",
       "    }\n",
       "\n",
       "    .dataframe thead th {\n",
       "        text-align: right;\n",
       "    }\n",
       "</style>\n",
       "<table border=\"1\" class=\"dataframe\">\n",
       "  <thead>\n",
       "    <tr style=\"text-align: right;\">\n",
       "      <th></th>\n",
       "      <th>DEBIDO A (CAUSA A)</th>\n",
       "      <th>CAUSA A (CIE-X)</th>\n",
       "      <th>DEBIDO A (CAUSA B)</th>\n",
       "      <th>CAUSA B (CIE-X)</th>\n",
       "      <th>DEBIDO A (CAUSA C)</th>\n",
       "      <th>CAUSA C (CIE-X)</th>\n",
       "      <th>DEBIDO A (CAUSA D)</th>\n",
       "      <th>CAUSA D (CIE-X)</th>\n",
       "      <th>DEBIDO A (CAUSA E)</th>\n",
       "      <th>CAUSA E (CIE-X)</th>\n",
       "    </tr>\n",
       "  </thead>\n",
       "  <tbody>\n",
       "    <tr>\n",
       "      <th>0</th>\n",
       "      <td>ASFIXIA DE NACIMIENTO SEVERA</td>\n",
       "      <td>P210</td>\n",
       "      <td>DIFICULTAD RESPIRATORIA DEL RECIEN NACIDO</td>\n",
       "      <td>P229</td>\n",
       "      <td>INMATURIDAD EXTREMA</td>\n",
       "      <td>P072</td>\n",
       "      <td>SIN REGISTRO</td>\n",
       "      <td>SIN REGISTRO</td>\n",
       "      <td>SIN REGISTRO</td>\n",
       "      <td>SIN REGISTRO</td>\n",
       "    </tr>\n",
       "    <tr>\n",
       "      <th>1</th>\n",
       "      <td>INSUFICIENCIA RESPIRATORIA AGUDA</td>\n",
       "      <td>J960</td>\n",
       "      <td>NEUMONIA SEVERA</td>\n",
       "      <td>J159</td>\n",
       "      <td>SIN REGISTRO</td>\n",
       "      <td>SIN REGISTRO</td>\n",
       "      <td>SIN REGISTRO</td>\n",
       "      <td>SIN REGISTRO</td>\n",
       "      <td>PARALISIS CEREBRAL INFANTIL</td>\n",
       "      <td>G809</td>\n",
       "    </tr>\n",
       "  </tbody>\n",
       "</table>\n",
       "</div>"
      ],
      "text/plain": [
       "                 DEBIDO A (CAUSA A) CAUSA A (CIE-X)  \\\n",
       "0      ASFIXIA DE NACIMIENTO SEVERA            P210   \n",
       "1  INSUFICIENCIA RESPIRATORIA AGUDA            J960   \n",
       "\n",
       "                          DEBIDO A (CAUSA B) CAUSA B (CIE-X)  \\\n",
       "0  DIFICULTAD RESPIRATORIA DEL RECIEN NACIDO            P229   \n",
       "1                            NEUMONIA SEVERA            J159   \n",
       "\n",
       "    DEBIDO A (CAUSA C) CAUSA C (CIE-X) DEBIDO A (CAUSA D) CAUSA D (CIE-X)  \\\n",
       "0  INMATURIDAD EXTREMA            P072       SIN REGISTRO    SIN REGISTRO   \n",
       "1         SIN REGISTRO    SIN REGISTRO       SIN REGISTRO    SIN REGISTRO   \n",
       "\n",
       "            DEBIDO A (CAUSA E) CAUSA E (CIE-X)  \n",
       "0                 SIN REGISTRO    SIN REGISTRO  \n",
       "1  PARALISIS CEREBRAL INFANTIL            G809  "
      ]
     },
     "execution_count": 41,
     "metadata": {},
     "output_type": "execute_result"
    }
   ],
   "source": [
    "data_FALL_SINA.iloc[:,range(19,29)].head(2)"
   ]
  },
  {
   "cell_type": "code",
   "execution_count": 42,
   "id": "opponent-kitchen",
   "metadata": {},
   "outputs": [
    {
     "data": {
      "text/plain": [
       "INSUFICIENCIA RESPIRATORIA AGUDA                  107594\n",
       "INSUFICIENCIA RESPIRATORIA                         92865\n",
       "FALLA MULTIORGANICA                                25892\n",
       "INFARTO AGUDO DE MIOCARDIO                         13319\n",
       "SEPSIS                                             13110\n",
       "SHOCK SEPTICO                                      12990\n",
       "PARO CARDIORESPIRATORIO                             9541\n",
       "INFARTO AGUDO DEL MIOCARDIO                         8999\n",
       "NEUMONIA                                            7320\n",
       "PARO CARDIO RESPIRATORIO                            7257\n",
       "PARO RESPIRATORIO                                   7006\n",
       "SEPTICEMIA                                          6665\n",
       "SHOCK HIPOVOLEMICO                                  5139\n",
       "FALLA ORGANICA MULTIPLE                             4786\n",
       "CHOQUE SEPTICO                                      4528\n",
       "EDEMA CEREBRAL                                      4361\n",
       "INSUFICIENCIA CARDIACA                              3986\n",
       "CHOQUE CARDIOGENICO                                 2996\n",
       "SHOCK CARDIOGENICO                                  2871\n",
       "INSUFICIENCIA RESPIRATORIA NO ESPECIFICADA          2781\n",
       "SINDROME DE DIFICULTAD RESPIRATORIA                 2715\n",
       "INSUFICIENCIA RESPIRATORIA SEVERA                   2682\n",
       "CHOQUE HIPOVOLEMICO                                 2460\n",
       "SINDROME DE DIFICULTAD RESPIRATORIA DEL ADULTO      2429\n",
       "SEPSIS NO ESPECIFICADA                              2381\n",
       "HIPERTENSION ARTERIAL                               2286\n",
       "BRONCONEUMONIA                                      2241\n",
       "INFARTO DE MIOCARDIO                                2227\n",
       "FALLA MULTIORGÁNICA                                 2166\n",
       "PARO CARDIACO                                       2127\n",
       "Name: DEBIDO A (CAUSA A), dtype: int64"
      ]
     },
     "execution_count": 42,
     "metadata": {},
     "output_type": "execute_result"
    }
   ],
   "source": [
    "data_FALL_SINA['DEBIDO A (CAUSA A)'].value_counts().nlargest(30)"
   ]
  },
  {
   "cell_type": "code",
   "execution_count": 43,
   "id": "medieval-hello",
   "metadata": {},
   "outputs": [],
   "source": [
    "import re\n",
    "data_FALL_SINA['INDICADOR_EXISTENCIA3']=1"
   ]
  },
  {
   "cell_type": "code",
   "execution_count": 44,
   "id": "voluntary-toronto",
   "metadata": {},
   "outputs": [
    {
     "data": {
      "text/plain": [
       "False    648897\n",
       "True      12215\n",
       "Name: DEBIDO A (CAUSA A), dtype: int64"
      ]
     },
     "execution_count": 44,
     "metadata": {},
     "output_type": "execute_result"
    }
   ],
   "source": [
    "data_FALL_SINA['DEBIDO A (CAUSA A)'].str.contains(\"COV\\w+\").value_counts()"
   ]
  },
  {
   "cell_type": "code",
   "execution_count": 45,
   "id": "settled-reputation",
   "metadata": {},
   "outputs": [
    {
     "data": {
      "text/plain": [
       "0         []\n",
       "1         []\n",
       "2         []\n",
       "3         []\n",
       "4         []\n",
       "          ..\n",
       "661107    []\n",
       "661108    []\n",
       "661109    []\n",
       "661110    []\n",
       "661111    []\n",
       "Name: DEBIDO A (CAUSA A), Length: 661112, dtype: object"
      ]
     },
     "execution_count": 45,
     "metadata": {},
     "output_type": "execute_result"
    }
   ],
   "source": [
    "data_FALL_SINA['DEBIDO A (CAUSA A)'].str.findall(\"COV\\w+\")"
   ]
  },
  {
   "cell_type": "code",
   "execution_count": 46,
   "id": "seven-equilibrium",
   "metadata": {},
   "outputs": [],
   "source": [
    "data_FALL_SINA.loc[data_FALL_SINA['DEBIDO A (CAUSA A)'].str.contains(\"COV\\w+\"), 'COVID_POSITIVO']= 'COVID19'"
   ]
  },
  {
   "cell_type": "code",
   "execution_count": 47,
   "id": "alike-controversy",
   "metadata": {},
   "outputs": [
    {
     "data": {
      "text/plain": [
       "COVID19    12215\n",
       "Name: COVID_POSITIVO, dtype: int64"
      ]
     },
     "execution_count": 47,
     "metadata": {},
     "output_type": "execute_result"
    }
   ],
   "source": [
    "data_FALL_SINA['COVID_POSITIVO'].value_counts()"
   ]
  },
  {
   "cell_type": "code",
   "execution_count": 48,
   "id": "portable-frontier",
   "metadata": {},
   "outputs": [
    {
     "data": {
      "text/plain": [
       "Index(['Nº', 'TIPO SEGURO', 'SEXO', 'EDAD', 'TIEMPO EDAD', 'ESTADO CIVIL',\n",
       "       'NIVEL DE INSTRUCCIÓN', 'COD# UBIGEO DOMICILIO', 'PAIS DOMICILIO',\n",
       "       'DEPARTAMENTO DOMICILIO', 'PROVINCIA DOMICILIO', 'DISTRITO DOMICILIO',\n",
       "       'FECHA', 'AÑO', 'MES', 'TIPO LUGAR', 'INSTITUCION', 'MUERTE VIOLENTA',\n",
       "       'NECROPSIA', 'DEBIDO A (CAUSA A)', 'CAUSA A (CIE-X)',\n",
       "       'DEBIDO A (CAUSA B)', 'CAUSA B (CIE-X)', 'DEBIDO A (CAUSA C)',\n",
       "       'CAUSA C (CIE-X)', 'DEBIDO A (CAUSA D)', 'CAUSA D (CIE-X)',\n",
       "       'DEBIDO A (CAUSA E)', 'CAUSA E (CIE-X)', 'DEBIDO A (CAUSA F)',\n",
       "       'CAUSA F (CIE-X)', 'INDICADOR_EXISTENCIA3', 'COVID_POSITIVO'],\n",
       "      dtype='object')"
      ]
     },
     "execution_count": 48,
     "metadata": {},
     "output_type": "execute_result"
    }
   ],
   "source": [
    "data_FALL_SINA.columns"
   ]
  },
  {
   "cell_type": "code",
   "execution_count": 49,
   "id": "particular-foster",
   "metadata": {},
   "outputs": [],
   "source": [
    "data_FALL_SINA2=data_FALL_SINA[['Nº', 'TIPO SEGURO', 'SEXO', 'EDAD', 'TIEMPO EDAD', 'ESTADO CIVIL',\n",
    "       'NIVEL DE INSTRUCCIÓN', 'COD# UBIGEO DOMICILIO', 'PAIS DOMICILIO',\n",
    "       'DEPARTAMENTO DOMICILIO', 'PROVINCIA DOMICILIO', 'DISTRITO DOMICILIO',\n",
    "       'FECHA', 'AÑO', 'MES', 'TIPO LUGAR', 'INSTITUCION', 'MUERTE VIOLENTA',\n",
    "       'NECROPSIA', 'DEBIDO A (CAUSA A)', 'CAUSA A (CIE-X)',\n",
    "       'DEBIDO A (CAUSA B)', 'CAUSA B (CIE-X)', 'DEBIDO A (CAUSA C)',\n",
    "       'CAUSA C (CIE-X)', 'DEBIDO A (CAUSA D)', 'CAUSA D (CIE-X)',\n",
    "       'DEBIDO A (CAUSA E)', 'CAUSA E (CIE-X)', 'DEBIDO A (CAUSA F)',\n",
    "       'CAUSA F (CIE-X)', 'INDICADOR_EXISTENCIA3', 'COVID_POSITIVO']]"
   ]
  },
  {
   "cell_type": "code",
   "execution_count": 50,
   "id": "optional-grant",
   "metadata": {},
   "outputs": [
    {
     "data": {
      "text/html": [
       "<div>\n",
       "<style scoped>\n",
       "    .dataframe tbody tr th:only-of-type {\n",
       "        vertical-align: middle;\n",
       "    }\n",
       "\n",
       "    .dataframe tbody tr th {\n",
       "        vertical-align: top;\n",
       "    }\n",
       "\n",
       "    .dataframe thead th {\n",
       "        text-align: right;\n",
       "    }\n",
       "</style>\n",
       "<table border=\"1\" class=\"dataframe\">\n",
       "  <thead>\n",
       "    <tr style=\"text-align: right;\">\n",
       "      <th></th>\n",
       "      <th>NECROPSIA</th>\n",
       "      <th>DEBIDO A (CAUSA A)</th>\n",
       "      <th>CAUSA A (CIE-X)</th>\n",
       "      <th>DEBIDO A (CAUSA B)</th>\n",
       "      <th>CAUSA B (CIE-X)</th>\n",
       "      <th>DEBIDO A (CAUSA C)</th>\n",
       "      <th>CAUSA C (CIE-X)</th>\n",
       "    </tr>\n",
       "  </thead>\n",
       "  <tbody>\n",
       "    <tr>\n",
       "      <th>26</th>\n",
       "      <td>NO SE REALIZÓ NECROPSIA</td>\n",
       "      <td>COVID 19</td>\n",
       "      <td>U071</td>\n",
       "      <td>VIH</td>\n",
       "      <td>B200</td>\n",
       "      <td>SIN REGISTRO</td>\n",
       "      <td>SIN REGISTRO</td>\n",
       "    </tr>\n",
       "    <tr>\n",
       "      <th>39</th>\n",
       "      <td>NO SE REALIZÓ NECROPSIA</td>\n",
       "      <td>SOSPECHA COVID</td>\n",
       "      <td>SIN REGISTRO</td>\n",
       "      <td>SIN REGISTRO</td>\n",
       "      <td>SIN REGISTRO</td>\n",
       "      <td>SIN REGISTRO</td>\n",
       "      <td>SIN REGISTRO</td>\n",
       "    </tr>\n",
       "    <tr>\n",
       "      <th>96</th>\n",
       "      <td>NO SE REALIZÓ NECROPSIA</td>\n",
       "      <td>SOSPECHA DE COVID 19</td>\n",
       "      <td>U072</td>\n",
       "      <td>SIN REGISTRO</td>\n",
       "      <td>SIN REGISTRO</td>\n",
       "      <td>SIN REGISTRO</td>\n",
       "      <td>SIN REGISTRO</td>\n",
       "    </tr>\n",
       "    <tr>\n",
       "      <th>137</th>\n",
       "      <td>NO SE REALIZÓ NECROPSIA</td>\n",
       "      <td>COVID 19</td>\n",
       "      <td>U071</td>\n",
       "      <td>INSUFICIENCIA RESPIRATORIA AGUDA</td>\n",
       "      <td>J960</td>\n",
       "      <td>SIN REGISTRO</td>\n",
       "      <td>SIN REGISTRO</td>\n",
       "    </tr>\n",
       "    <tr>\n",
       "      <th>155</th>\n",
       "      <td>NO SE REALIZÓ NECROPSIA</td>\n",
       "      <td>SOSPECHA DE COVID 19</td>\n",
       "      <td>U072</td>\n",
       "      <td>SIN REGISTRO</td>\n",
       "      <td>SIN REGISTRO</td>\n",
       "      <td>SIN REGISTRO</td>\n",
       "      <td>SIN REGISTRO</td>\n",
       "    </tr>\n",
       "    <tr>\n",
       "      <th>...</th>\n",
       "      <td>...</td>\n",
       "      <td>...</td>\n",
       "      <td>...</td>\n",
       "      <td>...</td>\n",
       "      <td>...</td>\n",
       "      <td>...</td>\n",
       "      <td>...</td>\n",
       "    </tr>\n",
       "    <tr>\n",
       "      <th>660445</th>\n",
       "      <td>NO SE REALIZÓ NECROPSIA</td>\n",
       "      <td>INFECCION POR COVID</td>\n",
       "      <td>U071</td>\n",
       "      <td>NEUMONIA</td>\n",
       "      <td>J189</td>\n",
       "      <td>SHOCK SEPTICO</td>\n",
       "      <td>A419</td>\n",
       "    </tr>\n",
       "    <tr>\n",
       "      <th>660570</th>\n",
       "      <td>NO SE REALIZÓ NECROPSIA</td>\n",
       "      <td>COVID 19 VIRUS IDENTIFICADO</td>\n",
       "      <td>U071</td>\n",
       "      <td>INSUFICIENCIA RESPIRATORIA AGUDA</td>\n",
       "      <td>J960</td>\n",
       "      <td>DIABETES MELLITUS TIPO 2</td>\n",
       "      <td>E115</td>\n",
       "    </tr>\n",
       "    <tr>\n",
       "      <th>660688</th>\n",
       "      <td>NO SE REALIZÓ NECROPSIA</td>\n",
       "      <td>INFECCION POR COVID 19</td>\n",
       "      <td>U071</td>\n",
       "      <td>SIN REGISTRO</td>\n",
       "      <td>SIN REGISTRO</td>\n",
       "      <td>SIN REGISTRO</td>\n",
       "      <td>SIN REGISTRO</td>\n",
       "    </tr>\n",
       "    <tr>\n",
       "      <th>661030</th>\n",
       "      <td>NO SE REALIZÓ NECROPSIA</td>\n",
       "      <td>COVID 19 VIRUS NO IDENTIFICADO</td>\n",
       "      <td>U072</td>\n",
       "      <td>SIN REGISTRO</td>\n",
       "      <td>SIN REGISTRO</td>\n",
       "      <td>SIN REGISTRO</td>\n",
       "      <td>SIN REGISTRO</td>\n",
       "    </tr>\n",
       "    <tr>\n",
       "      <th>661054</th>\n",
       "      <td>NO SE REALIZÓ NECROPSIA</td>\n",
       "      <td>COVID 19 VIRUS IDENTIFICADO</td>\n",
       "      <td>U071</td>\n",
       "      <td>SIN REGISTRO</td>\n",
       "      <td>SIN REGISTRO</td>\n",
       "      <td>SIN REGISTRO</td>\n",
       "      <td>SIN REGISTRO</td>\n",
       "    </tr>\n",
       "  </tbody>\n",
       "</table>\n",
       "<p>12215 rows × 7 columns</p>\n",
       "</div>"
      ],
      "text/plain": [
       "                      NECROPSIA              DEBIDO A (CAUSA A)  \\\n",
       "26      NO SE REALIZÓ NECROPSIA                        COVID 19   \n",
       "39      NO SE REALIZÓ NECROPSIA                  SOSPECHA COVID   \n",
       "96      NO SE REALIZÓ NECROPSIA            SOSPECHA DE COVID 19   \n",
       "137     NO SE REALIZÓ NECROPSIA                        COVID 19   \n",
       "155     NO SE REALIZÓ NECROPSIA            SOSPECHA DE COVID 19   \n",
       "...                         ...                             ...   \n",
       "660445  NO SE REALIZÓ NECROPSIA             INFECCION POR COVID   \n",
       "660570  NO SE REALIZÓ NECROPSIA     COVID 19 VIRUS IDENTIFICADO   \n",
       "660688  NO SE REALIZÓ NECROPSIA          INFECCION POR COVID 19   \n",
       "661030  NO SE REALIZÓ NECROPSIA  COVID 19 VIRUS NO IDENTIFICADO   \n",
       "661054  NO SE REALIZÓ NECROPSIA     COVID 19 VIRUS IDENTIFICADO   \n",
       "\n",
       "       CAUSA A (CIE-X)                DEBIDO A (CAUSA B) CAUSA B (CIE-X)  \\\n",
       "26                U071                               VIH            B200   \n",
       "39        SIN REGISTRO                      SIN REGISTRO    SIN REGISTRO   \n",
       "96                U072                      SIN REGISTRO    SIN REGISTRO   \n",
       "137               U071  INSUFICIENCIA RESPIRATORIA AGUDA            J960   \n",
       "155               U072                      SIN REGISTRO    SIN REGISTRO   \n",
       "...                ...                               ...             ...   \n",
       "660445            U071                          NEUMONIA            J189   \n",
       "660570            U071  INSUFICIENCIA RESPIRATORIA AGUDA            J960   \n",
       "660688            U071                      SIN REGISTRO    SIN REGISTRO   \n",
       "661030            U072                      SIN REGISTRO    SIN REGISTRO   \n",
       "661054            U071                      SIN REGISTRO    SIN REGISTRO   \n",
       "\n",
       "              DEBIDO A (CAUSA C) CAUSA C (CIE-X)  \n",
       "26                  SIN REGISTRO    SIN REGISTRO  \n",
       "39                  SIN REGISTRO    SIN REGISTRO  \n",
       "96                  SIN REGISTRO    SIN REGISTRO  \n",
       "137                 SIN REGISTRO    SIN REGISTRO  \n",
       "155                 SIN REGISTRO    SIN REGISTRO  \n",
       "...                          ...             ...  \n",
       "660445             SHOCK SEPTICO            A419  \n",
       "660570  DIABETES MELLITUS TIPO 2            E115  \n",
       "660688              SIN REGISTRO    SIN REGISTRO  \n",
       "661030              SIN REGISTRO    SIN REGISTRO  \n",
       "661054              SIN REGISTRO    SIN REGISTRO  \n",
       "\n",
       "[12215 rows x 7 columns]"
      ]
     },
     "execution_count": 50,
     "metadata": {},
     "output_type": "execute_result"
    }
   ],
   "source": [
    "data_FALL_SINA2[data_FALL_SINA2.COVID_POSITIVO.notnull()].iloc[:,range(18,25)]"
   ]
  },
  {
   "cell_type": "code",
   "execution_count": 51,
   "id": "continent-latin",
   "metadata": {},
   "outputs": [
    {
     "data": {
      "text/html": [
       "<div>\n",
       "<style scoped>\n",
       "    .dataframe tbody tr th:only-of-type {\n",
       "        vertical-align: middle;\n",
       "    }\n",
       "\n",
       "    .dataframe tbody tr th {\n",
       "        vertical-align: top;\n",
       "    }\n",
       "\n",
       "    .dataframe thead th {\n",
       "        text-align: right;\n",
       "    }\n",
       "</style>\n",
       "<table border=\"1\" class=\"dataframe\">\n",
       "  <thead>\n",
       "    <tr style=\"text-align: right;\">\n",
       "      <th></th>\n",
       "      <th>FECHA</th>\n",
       "      <th>AÑO</th>\n",
       "      <th>MES</th>\n",
       "    </tr>\n",
       "  </thead>\n",
       "  <tbody>\n",
       "    <tr>\n",
       "      <th>0</th>\n",
       "      <td>2021-01-19</td>\n",
       "      <td>2021</td>\n",
       "      <td>1</td>\n",
       "    </tr>\n",
       "    <tr>\n",
       "      <th>1</th>\n",
       "      <td>2020-01-17</td>\n",
       "      <td>2020</td>\n",
       "      <td>1</td>\n",
       "    </tr>\n",
       "    <tr>\n",
       "      <th>2</th>\n",
       "      <td>2021-01-31</td>\n",
       "      <td>2021</td>\n",
       "      <td>1</td>\n",
       "    </tr>\n",
       "    <tr>\n",
       "      <th>3</th>\n",
       "      <td>2020-01-03</td>\n",
       "      <td>2020</td>\n",
       "      <td>1</td>\n",
       "    </tr>\n",
       "    <tr>\n",
       "      <th>4</th>\n",
       "      <td>2020-01-19</td>\n",
       "      <td>2020</td>\n",
       "      <td>1</td>\n",
       "    </tr>\n",
       "  </tbody>\n",
       "</table>\n",
       "</div>"
      ],
      "text/plain": [
       "        FECHA   AÑO  MES\n",
       "0  2021-01-19  2021    1\n",
       "1  2020-01-17  2020    1\n",
       "2  2021-01-31  2021    1\n",
       "3  2020-01-03  2020    1\n",
       "4  2020-01-19  2020    1"
      ]
     },
     "execution_count": 51,
     "metadata": {},
     "output_type": "execute_result"
    }
   ],
   "source": [
    "data_FALL_SINA2[['FECHA','AÑO','MES']].head()"
   ]
  },
  {
   "cell_type": "code",
   "execution_count": 52,
   "id": "economic-barbados",
   "metadata": {},
   "outputs": [
    {
     "data": {
      "text/plain": [
       "(661112, 33)"
      ]
     },
     "execution_count": 52,
     "metadata": {},
     "output_type": "execute_result"
    }
   ],
   "source": [
    "data_FALL_SINA2.shape"
   ]
  },
  {
   "cell_type": "code",
   "execution_count": 53,
   "id": "binary-pontiac",
   "metadata": {},
   "outputs": [
    {
     "data": {
      "text/plain": [
       "('2017-01-01', '2021-05-03')"
      ]
     },
     "execution_count": 53,
     "metadata": {},
     "output_type": "execute_result"
    }
   ],
   "source": [
    "data_FALL_SINA2.FECHA.min(), data_FALL_SINA2.FECHA.max()"
   ]
  },
  {
   "cell_type": "code",
   "execution_count": 54,
   "id": "received-submission",
   "metadata": {},
   "outputs": [
    {
     "data": {
      "text/plain": [
       "FECHA\n",
       "2017-01-01     270\n",
       "2017-01-02     238\n",
       "2017-01-03     220\n",
       "2017-01-04     229\n",
       "2017-01-05     211\n",
       "              ... \n",
       "2021-04-29    1099\n",
       "2021-04-30     990\n",
       "2021-05-01    1002\n",
       "2021-05-02     969\n",
       "2021-05-03     509\n",
       "Name: INDICADOR_EXISTENCIA3, Length: 1584, dtype: int64"
      ]
     },
     "execution_count": 54,
     "metadata": {},
     "output_type": "execute_result"
    }
   ],
   "source": [
    "xyz=data_FALL_SINA2.groupby(['FECHA'])['INDICADOR_EXISTENCIA3'].sum()\n",
    "xyz"
   ]
  },
  {
   "cell_type": "code",
   "execution_count": 55,
   "id": "southeast-consolidation",
   "metadata": {},
   "outputs": [
    {
     "data": {
      "text/html": [
       "<div>\n",
       "<style scoped>\n",
       "    .dataframe tbody tr th:only-of-type {\n",
       "        vertical-align: middle;\n",
       "    }\n",
       "\n",
       "    .dataframe tbody tr th {\n",
       "        vertical-align: top;\n",
       "    }\n",
       "\n",
       "    .dataframe thead th {\n",
       "        text-align: right;\n",
       "    }\n",
       "</style>\n",
       "<table border=\"1\" class=\"dataframe\">\n",
       "  <thead>\n",
       "    <tr style=\"text-align: right;\">\n",
       "      <th></th>\n",
       "      <th>DIA</th>\n",
       "      <th>FALL_SINAD_DIA</th>\n",
       "    </tr>\n",
       "  </thead>\n",
       "  <tbody>\n",
       "    <tr>\n",
       "      <th>0</th>\n",
       "      <td>2017-01-01</td>\n",
       "      <td>270</td>\n",
       "    </tr>\n",
       "    <tr>\n",
       "      <th>1</th>\n",
       "      <td>2017-01-02</td>\n",
       "      <td>238</td>\n",
       "    </tr>\n",
       "    <tr>\n",
       "      <th>2</th>\n",
       "      <td>2017-01-03</td>\n",
       "      <td>220</td>\n",
       "    </tr>\n",
       "    <tr>\n",
       "      <th>3</th>\n",
       "      <td>2017-01-04</td>\n",
       "      <td>229</td>\n",
       "    </tr>\n",
       "    <tr>\n",
       "      <th>4</th>\n",
       "      <td>2017-01-05</td>\n",
       "      <td>211</td>\n",
       "    </tr>\n",
       "    <tr>\n",
       "      <th>...</th>\n",
       "      <td>...</td>\n",
       "      <td>...</td>\n",
       "    </tr>\n",
       "    <tr>\n",
       "      <th>1579</th>\n",
       "      <td>2021-04-29</td>\n",
       "      <td>1099</td>\n",
       "    </tr>\n",
       "    <tr>\n",
       "      <th>1580</th>\n",
       "      <td>2021-04-30</td>\n",
       "      <td>990</td>\n",
       "    </tr>\n",
       "    <tr>\n",
       "      <th>1581</th>\n",
       "      <td>2021-05-01</td>\n",
       "      <td>1002</td>\n",
       "    </tr>\n",
       "    <tr>\n",
       "      <th>1582</th>\n",
       "      <td>2021-05-02</td>\n",
       "      <td>969</td>\n",
       "    </tr>\n",
       "    <tr>\n",
       "      <th>1583</th>\n",
       "      <td>2021-05-03</td>\n",
       "      <td>509</td>\n",
       "    </tr>\n",
       "  </tbody>\n",
       "</table>\n",
       "<p>1584 rows × 2 columns</p>\n",
       "</div>"
      ],
      "text/plain": [
       "             DIA  FALL_SINAD_DIA\n",
       "0     2017-01-01             270\n",
       "1     2017-01-02             238\n",
       "2     2017-01-03             220\n",
       "3     2017-01-04             229\n",
       "4     2017-01-05             211\n",
       "...          ...             ...\n",
       "1579  2021-04-29            1099\n",
       "1580  2021-04-30             990\n",
       "1581  2021-05-01            1002\n",
       "1582  2021-05-02             969\n",
       "1583  2021-05-03             509\n",
       "\n",
       "[1584 rows x 2 columns]"
      ]
     },
     "execution_count": 55,
     "metadata": {},
     "output_type": "execute_result"
    }
   ],
   "source": [
    "FALL_SINA_DIA=pd.DataFrame({'DIA':xyz.index, 'FALL_SINAD_DIA':xyz.values})\n",
    "FALL_SINA_DIA"
   ]
  },
  {
   "cell_type": "code",
   "execution_count": 56,
   "id": "wrong-marble",
   "metadata": {},
   "outputs": [
    {
     "data": {
      "image/png": "[encoded data removed]",
      "text/plain": [
       "<Figure size 1440x576 with 1 Axes>"
      ]
     },
     "metadata": {
      "needs_background": "light"
     },
     "output_type": "display_data"
    }
   ],
   "source": [
    "rolling5 = FALL_SINA_DIA.FALL_SINAD_DIA.rolling(window=7)\n",
    "rolling6= FALL_SINA_DIA.FALL_SINAD_DIA.rolling(window=14)\n",
    "rolling_mean5= rolling5.mean()\n",
    "rolling_mean6= rolling6.mean()\n",
    "\n",
    "plt.figure(figsize=(20,8))\n",
    "plt.xticks(rotation=90)\n",
    "FALL_SINA_DIA.FALL_SINAD_DIA.plot(marker='o',ms=8,linestyle='None',alpha=0.5)\n",
    "rolling_mean5.plot(color='red')\n",
    "rolling_mean6.plot(color='purple')\n",
    "plt.show()"
   ]
  },
  {
   "cell_type": "code",
   "execution_count": 57,
   "id": "static-crystal",
   "metadata": {},
   "outputs": [],
   "source": [
    "yyy=data_FALL_SINA2.groupby(['AÑO','MES'])['INDICADOR_EXISTENCIA3'].sum()"
   ]
  },
  {
   "cell_type": "code",
   "execution_count": 58,
   "id": "comfortable-baptist",
   "metadata": {},
   "outputs": [
    {
     "data": {
      "text/plain": [
       "MultiIndex([(2017,  1),\n",
       "            (2017,  2),\n",
       "            (2017,  3),\n",
       "            (2017,  4),\n",
       "            (2017,  5),\n",
       "            (2017,  6),\n",
       "            (2017,  7),\n",
       "            (2017,  8),\n",
       "            (2017,  9),\n",
       "            (2017, 10),\n",
       "            (2017, 11),\n",
       "            (2017, 12),\n",
       "            (2018,  1),\n",
       "            (2018,  2),\n",
       "            (2018,  3),\n",
       "            (2018,  4),\n",
       "            (2018,  5),\n",
       "            (2018,  6),\n",
       "            (2018,  7),\n",
       "            (2018,  8),\n",
       "            (2018,  9),\n",
       "            (2018, 10),\n",
       "            (2018, 11),\n",
       "            (2018, 12),\n",
       "            (2019,  1),\n",
       "            (2019,  2),\n",
       "            (2019,  3),\n",
       "            (2019,  4),\n",
       "            (2019,  5),\n",
       "            (2019,  6),\n",
       "            (2019,  7),\n",
       "            (2019,  8),\n",
       "            (2019,  9),\n",
       "            (2019, 10),\n",
       "            (2019, 11),\n",
       "            (2019, 12),\n",
       "            (2020,  1),\n",
       "            (2020,  2),\n",
       "            (2020,  3),\n",
       "            (2020,  4),\n",
       "            (2020,  5),\n",
       "            (2020,  6),\n",
       "            (2020,  7),\n",
       "            (2020,  8),\n",
       "            (2020,  9),\n",
       "            (2020, 10),\n",
       "            (2020, 11),\n",
       "            (2020, 12),\n",
       "            (2021,  1),\n",
       "            (2021,  2),\n",
       "            (2021,  3),\n",
       "            (2021,  4),\n",
       "            (2021,  5)],\n",
       "           names=['AÑO', 'MES'])"
      ]
     },
     "execution_count": 58,
     "metadata": {},
     "output_type": "execute_result"
    }
   ],
   "source": [
    "yyy.index"
   ]
  },
  {
   "cell_type": "code",
   "execution_count": 59,
   "id": "administrative-essence",
   "metadata": {},
   "outputs": [],
   "source": [
    "anio_mes=pd.DataFrame(yyy.index.get_level_values(0).astype(str)+'_'+yyy.index.get_level_values(1).astype(str))"
   ]
  },
  {
   "cell_type": "code",
   "execution_count": 60,
   "id": "operating-correction",
   "metadata": {},
   "outputs": [
    {
     "data": {
      "text/html": [
       "<div>\n",
       "<style scoped>\n",
       "    .dataframe tbody tr th:only-of-type {\n",
       "        vertical-align: middle;\n",
       "    }\n",
       "\n",
       "    .dataframe tbody tr th {\n",
       "        vertical-align: top;\n",
       "    }\n",
       "\n",
       "    .dataframe thead th {\n",
       "        text-align: right;\n",
       "    }\n",
       "</style>\n",
       "<table border=\"1\" class=\"dataframe\">\n",
       "  <thead>\n",
       "    <tr style=\"text-align: right;\">\n",
       "      <th></th>\n",
       "      <th>0</th>\n",
       "    </tr>\n",
       "  </thead>\n",
       "  <tbody>\n",
       "    <tr>\n",
       "      <th>0</th>\n",
       "      <td>2017_1</td>\n",
       "    </tr>\n",
       "    <tr>\n",
       "      <th>1</th>\n",
       "      <td>2017_2</td>\n",
       "    </tr>\n",
       "    <tr>\n",
       "      <th>2</th>\n",
       "      <td>2017_3</td>\n",
       "    </tr>\n",
       "    <tr>\n",
       "      <th>3</th>\n",
       "      <td>2017_4</td>\n",
       "    </tr>\n",
       "    <tr>\n",
       "      <th>4</th>\n",
       "      <td>2017_5</td>\n",
       "    </tr>\n",
       "  </tbody>\n",
       "</table>\n",
       "</div>"
      ],
      "text/plain": [
       "        0\n",
       "0  2017_1\n",
       "1  2017_2\n",
       "2  2017_3\n",
       "3  2017_4\n",
       "4  2017_5"
      ]
     },
     "execution_count": 60,
     "metadata": {},
     "output_type": "execute_result"
    }
   ],
   "source": [
    "anio_mes.head()"
   ]
  },
  {
   "cell_type": "code",
   "execution_count": 61,
   "id": "cordless-guatemala",
   "metadata": {},
   "outputs": [
    {
     "data": {
      "text/html": [
       "<div>\n",
       "<style scoped>\n",
       "    .dataframe tbody tr th:only-of-type {\n",
       "        vertical-align: middle;\n",
       "    }\n",
       "\n",
       "    .dataframe tbody tr th {\n",
       "        vertical-align: top;\n",
       "    }\n",
       "\n",
       "    .dataframe thead th {\n",
       "        text-align: right;\n",
       "    }\n",
       "</style>\n",
       "<table border=\"1\" class=\"dataframe\">\n",
       "  <thead>\n",
       "    <tr style=\"text-align: right;\">\n",
       "      <th></th>\n",
       "      <th>ANIO_MES</th>\n",
       "      <th>FALL_SINA_MES</th>\n",
       "    </tr>\n",
       "  </thead>\n",
       "  <tbody>\n",
       "    <tr>\n",
       "      <th>0</th>\n",
       "      <td>2017_1</td>\n",
       "      <td>7534</td>\n",
       "    </tr>\n",
       "    <tr>\n",
       "      <th>1</th>\n",
       "      <td>2017_2</td>\n",
       "      <td>7271</td>\n",
       "    </tr>\n",
       "    <tr>\n",
       "      <th>2</th>\n",
       "      <td>2017_3</td>\n",
       "      <td>8461</td>\n",
       "    </tr>\n",
       "    <tr>\n",
       "      <th>3</th>\n",
       "      <td>2017_4</td>\n",
       "      <td>7507</td>\n",
       "    </tr>\n",
       "    <tr>\n",
       "      <th>4</th>\n",
       "      <td>2017_5</td>\n",
       "      <td>7891</td>\n",
       "    </tr>\n",
       "  </tbody>\n",
       "</table>\n",
       "</div>"
      ],
      "text/plain": [
       "  ANIO_MES  FALL_SINA_MES\n",
       "0   2017_1           7534\n",
       "1   2017_2           7271\n",
       "2   2017_3           8461\n",
       "3   2017_4           7507\n",
       "4   2017_5           7891"
      ]
     },
     "execution_count": 61,
     "metadata": {},
     "output_type": "execute_result"
    }
   ],
   "source": [
    "FALL_SINA_MES=pd.DataFrame({'ANIO_MES':anio_mes[0], 'FALL_SINA_MES':yyy.values})\n",
    "FALL_SINA_MES.head()"
   ]
  },
  {
   "cell_type": "code",
   "execution_count": 62,
   "id": "cutting-count",
   "metadata": {},
   "outputs": [
    {
     "data": {
      "image/png": "[encoded data removed]",
      "text/plain": [
       "<Figure size 1440x576 with 1 Axes>"
      ]
     },
     "metadata": {
      "needs_background": "light"
     },
     "output_type": "display_data"
    }
   ],
   "source": [
    "rolling7 = FALL_SINA_MES.FALL_SINA_MES.rolling(window=3)\n",
    "rolling8= FALL_SINA_MES.FALL_SINA_MES.rolling(window=5)\n",
    "rolling_mean7= rolling7.mean()\n",
    "rolling_mean8= rolling8.mean()\n",
    "\n",
    "plt.figure(figsize=(20,8))\n",
    "plt.xticks(rotation=90)\n",
    "FALL_SINA_MES.FALL_SINA_MES.plot(marker='o',ms=20,linestyle='None',alpha=0.5)\n",
    "rolling_mean7.plot(color='red',linestyle='--',alpha=0.5)\n",
    "rolling_mean8.plot(color='purple',linestyle='--',alpha=0.5)\n",
    "plt.show()"
   ]
  },
  {
   "cell_type": "markdown",
   "id": "vital-province",
   "metadata": {},
   "source": [
    "#### Ahora vemos el número de fallecidos por año, usando nuestra primera función"
   ]
  },
  {
   "cell_type": "code",
   "execution_count": 63,
   "id": "looking-display",
   "metadata": {},
   "outputs": [],
   "source": [
    "def funcion(x):\n",
    "    return 5*x"
   ]
  },
  {
   "cell_type": "code",
   "execution_count": 64,
   "id": "stuck-dynamics",
   "metadata": {},
   "outputs": [
    {
     "data": {
      "text/html": [
       "<div>\n",
       "<style scoped>\n",
       "    .dataframe tbody tr th:only-of-type {\n",
       "        vertical-align: middle;\n",
       "    }\n",
       "\n",
       "    .dataframe tbody tr th {\n",
       "        vertical-align: top;\n",
       "    }\n",
       "\n",
       "    .dataframe thead th {\n",
       "        text-align: right;\n",
       "    }\n",
       "</style>\n",
       "<table border=\"1\" class=\"dataframe\">\n",
       "  <thead>\n",
       "    <tr style=\"text-align: right;\">\n",
       "      <th></th>\n",
       "      <th>ANIO</th>\n",
       "      <th>FALL_SINA_ANIO</th>\n",
       "    </tr>\n",
       "  </thead>\n",
       "  <tbody>\n",
       "    <tr>\n",
       "      <th>0</th>\n",
       "      <td>2017</td>\n",
       "      <td>98973</td>\n",
       "    </tr>\n",
       "    <tr>\n",
       "      <th>1</th>\n",
       "      <td>2018</td>\n",
       "      <td>112813</td>\n",
       "    </tr>\n",
       "    <tr>\n",
       "      <th>2</th>\n",
       "      <td>2019</td>\n",
       "      <td>114942</td>\n",
       "    </tr>\n",
       "    <tr>\n",
       "      <th>3</th>\n",
       "      <td>2020</td>\n",
       "      <td>212259</td>\n",
       "    </tr>\n",
       "    <tr>\n",
       "      <th>4</th>\n",
       "      <td>2021</td>\n",
       "      <td>122125</td>\n",
       "    </tr>\n",
       "  </tbody>\n",
       "</table>\n",
       "</div>"
      ],
      "text/plain": [
       "   ANIO  FALL_SINA_ANIO\n",
       "0  2017           98973\n",
       "1  2018          112813\n",
       "2  2019          114942\n",
       "3  2020          212259\n",
       "4  2021          122125"
      ]
     },
     "execution_count": 64,
     "metadata": {},
     "output_type": "execute_result"
    }
   ],
   "source": [
    "abc=data_FALL_SINA2.groupby(['AÑO'])['INDICADOR_EXISTENCIA3'].sum()\n",
    "FALL_SINA_ANIO=pd.DataFrame({'ANIO':abc.index, 'FALL_SINA_ANIO':abc.values})\n",
    "FALL_SINA_ANIO.head()"
   ]
  },
  {
   "cell_type": "code",
   "execution_count": 86,
   "id": "exciting-execution",
   "metadata": {},
   "outputs": [
    {
     "data": {
      "image/png": "[encoded data removed]",
      "text/plain": [
       "<Figure size 1440x720 with 1 Axes>"
      ]
     },
     "metadata": {
      "needs_background": "light"
     },
     "output_type": "display_data"
    }
   ],
   "source": [
    "plt.rcParams[\"figure.figsize\"] =(20,10)\n",
    "FALL_SINA_ANIO.plot(x=\"ANIO\",y=[\"FALL_SINA_ANIO\"],kind=\"bar\")\n",
    "plt.title(\"Fallecidos en Perú\", fontsize=24)\n",
    "plt.xticks(fontsize=20,rotation=0)\n",
    "plt.yticks(fontsize=20)\n",
    "\n",
    "x = FALL_SINA_ANIO[\"ANIO\"]\n",
    "y = FALL_SINA_ANIO[\"FALL_SINA_ANIO\"]\n",
    "\n",
    "fx =1\n",
    "fy =1\n",
    "for i, v in enumerate(x):\n",
    "    plt.text(i*fx, y[i]*fy,str(int(y[i])), color='black', backgroundcolor= \"skyblue\",fontsize = 20 ,rotation= 0)"
   ]
  },
  {
   "cell_type": "code",
   "execution_count": 65,
   "id": "molecular-norfolk",
   "metadata": {},
   "outputs": [
    {
     "data": {
      "image/png": "[encoded data removed]",
      "text/plain": [
       "<Figure size 1440x1440 with 1 Axes>"
      ]
     },
     "metadata": {
      "needs_background": "light"
     },
     "output_type": "display_data"
    }
   ],
   "source": [
    "fig, ax = plt.subplots(figsize=(20,20))\n",
    "# ax=FALL_SINA_ANIO.FALL_SINA_ANIO.plot(kind='bar')\n",
    "# fig = plt.figure()\n",
    "plt.ylim([0,230000])\n",
    "plt.bar(FALL_SINA_ANIO.ANIO,FALL_SINA_ANIO.FALL_SINA_ANIO, color='blue', width=0.5, alpha=0.5)\n",
    "plt.title(\"Fallecidos en Perú\", fontsize=24)\n",
    "plt.xticks(fontsize=20)\n",
    "plt.yticks(fontsize=20)\n",
    "\n",
    "# funcion para poner etiquetas sobre las barras\n",
    "def add_value_labels(ax, spacing=5):\n",
    "    \n",
    "    # Para cada barra poner una etiqueta\n",
    "    for rect in ax.patches:\n",
    "        #Obteniendo los valores y pocisiones de la etiqueta\n",
    "        y_value = rect.get_height()\n",
    "        x_value= rect.get_x() + rect.get_width()/2\n",
    "        \n",
    "        # Espacio entre la etiqueta y la barra\n",
    "        space= spacing\n",
    "        # Tipo de alineamiento\n",
    "        va= 'bottom'\n",
    "        \n",
    "        # dando formato con 0 decimales, podemos cambiar el 0 por cualquier número, por ejemplo 1 y tendra 1 decimal\n",
    "        # Hay que notar que el punto se pone para el decimarl y la coma como separador de miles\n",
    "        label = \"{:,.0f}\".format(y_value)\n",
    "        \n",
    "        # Añadiendo la anotación\n",
    "        ax.annotate(\n",
    "            label,\n",
    "            (x_value, y_value),\n",
    "            xytext=(0, space),\n",
    "            size=20,                      # Tamaño de letra\n",
    "            textcoords=\"offset points\",   # para interpretar xytext como espacio (offset) entre puntos\n",
    "            ha='center',\n",
    "            va=va)                        # alienamiento vertical\n",
    "                \n",
    "#llamando a la funcion creada\n",
    "add_value_labels(ax)\n",
    "plt.show()\n",
    "        \n"
   ]
  },
  {
   "cell_type": "code",
   "execution_count": 66,
   "id": "billion-empire",
   "metadata": {},
   "outputs": [
    {
     "data": {
      "text/plain": [
       "[<matplotlib.patches.Rectangle at 0x1cc00119588>,\n",
       " <matplotlib.patches.Rectangle at 0x1cbaa969f98>,\n",
       " <matplotlib.patches.Rectangle at 0x1cc00119a20>,\n",
       " <matplotlib.patches.Rectangle at 0x1cc00119c18>,\n",
       " <matplotlib.patches.Rectangle at 0x1cc001099b0>]"
      ]
     },
     "execution_count": 66,
     "metadata": {},
     "output_type": "execute_result"
    }
   ],
   "source": [
    "ax.patches"
   ]
  },
  {
   "cell_type": "markdown",
   "id": "private-treat",
   "metadata": {},
   "source": [
    "### TAREA:\n",
    "\n",
    "La idea de cruzar las bases de Positivos y Fallecidos, era ver la evolución del paciente, esto solo es posible si se trata de la misma persona. Aun cuando todos los campos cruzan, observamos que podrían rtatarse de personas distintas.\n",
    "\n",
    "* A partir de los resultados de la referencia en la NOTA1 sotenemos que debería haber aproximadamente la misma cantidad de personas fallecidas en un mismo departamento, sin embargo obtenemos una igualdad inferior al 25% del total cruzado. Las razones pueden ser múltiples, entre ellas qeu haya diferencias en el formato de caracteres . Por ejemplo no se hacen iguales porque Python toma la escritura textual y en tal sentido A!=A (recordar que 1= significa \"no es igual\" en una condición lógica del lenguaje Pyhton), si la palabra en evaluación fuera AZÁNGARO.\n",
    "  \n",
    "  * ¿Cuantos casos de este tipo encuentra en la base de datos?\n",
    "  * Para los casos que no son de este tipo. ¿Que explicación daría a la diferencia?\n",
    "  * ¿Que otros metodos de validación podríamos usar para saber si se trata o no de la misma persona?\n",
    "  \n",
    "* Existe un incremento significativo de la causa de muerte por INSUFICIENCIA RESPIRATORIA AGUDA en los años 2020 y 2021, respecto a los otros años? Muestre gráficamente y en una tabla de frecuencias (value_counts).\n",
    "\n",
    "\n",
    "  * dataCruce1['DEPARTAMENTO_x'] = dataCruce1['DEPARTAMENTO_x'].str.replace('Á','A')\n",
    "  * dataCruce1['DEPARTAMENTO_x'] = dataCruce1['DEPARTAMENTO_x'].str.replace('É','E')\n",
    "  * dataCruce1['DEPARTAMENTO_x'] = dataCruce1['DEPARTAMENTO_x'].str.replace('Í','I')\n",
    "  * dataCruce1['DEPARTAMENTO_x'] = dataCruce1['DEPARTAMENTO_x'].str.replace('Ó','O')\n",
    "  * dataCruce1['DEPARTAMENTO_x'] = dataCruce1['DEPARTAMENTO_x'].str.replace('Ú','U')\n",
    "  * dataCruce1['DEPARTAMENTO_x'] = dataCruce1['DEPARTAMENTO_x'].str.replace('Ñ','N')\n",
    "\n",
    "  * dataCruce1['PROVINCIA_x']= dataCruce1['PROVINCIA_x'].str.replace('Á','A')\n",
    "  * dataCruce1['PROVINCIA_x'] = dataCruce1['PROVINCIA_x'].str.replace('É','E')\n",
    "  * dataCruce1['PROVINCIA_x'] = dataCruce1['PROVINCIA_x'].str.replace('Í','I')\n",
    "  * dataCruce1['PROVINCIA_x'] = dataCruce1['PROVINCIA_x'].str.replace('Ó','O')\n",
    "  * dataCruce1['PROVINCIA_x'] = dataCruce1['PROVINCIA_x'].str.replace('Ú','U')\n",
    "  * dataCruce1['PROVINCIA_x'] = dataCruce1['PROVINCIA_x'].str.replace('Ñ','N')\n",
    "\n",
    "  * dataCruce1['DISTRITO_x']= dataCruce1['DISTRITO_x'].str.replace('Á','A')\n",
    "  * dataCruce1['DISTRITO_x'] = dataCruce1['DISTRITO_x'].str.replace('É','E')\n",
    "  * dataCruce1['DISTRITO_x'] = dataCruce1['DISTRITO_x'].str.replace('Í','I')\n",
    "  * dataCruce1['DISTRITO_x'] = dataCruce1['DISTRITO_x'].str.replace('Ó','O')\n",
    "  * dataCruce1['DISTRITO_x'] = dataCruce1['DISTRITO_x'].str.replace('Ú','U')\n",
    "  * dataCruce1['DISTRITO_x'] = dataCruce1['DISTRITO_x'].str.replace('Ñ','N')\n",
    "\n",
    "\n",
    "\n",
    "\n",
    "\n",
    "\n",
    "\n",
    "\n",
    "\n",
    "\n"
   ]
  }
 ],
 "metadata": {
  "kernelspec": {
   "display_name": "Python 3",
   "language": "python",
   "name": "python3"
  },
  "language_info": {
   "codemirror_mode": {
    "name": "ipython",
    "version": 3
   },
   "file_extension": ".py",
   "mimetype": "text/x-python",
   "name": "python",
   "nbconvert_exporter": "python",
   "pygments_lexer": "ipython3",
   "version": "3.8.8"
  }
 },
 "nbformat": 4,
 "nbformat_minor": 5
}
